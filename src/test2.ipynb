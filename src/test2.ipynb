{
 "cells": [
  {
   "cell_type": "code",
   "execution_count": 1,
   "metadata": {},
   "outputs": [
    {
     "name": "stderr",
     "output_type": "stream",
     "text": [
      "/home/ahmadhammad/Desaisiv-AI-Agent/venv/lib/python3.12/site-packages/tqdm/auto.py:21: TqdmWarning: IProgress not found. Please update jupyter and ipywidgets. See https://ipywidgets.readthedocs.io/en/stable/user_install.html\n",
      "  from .autonotebook import tqdm as notebook_tqdm\n"
     ]
    }
   ],
   "source": [
    "from llms.llm_provider_factory import LLMProviderFactory\n",
    "from config.config import config\n",
    "from config.settings import settings\n",
    "from loaders.pdf_loader import PDFLoader\n",
    "from processors.text_processor import TextProcessor\n",
    "from vector_dbs.providers.vector_store import VectorStore\n",
    "from utils.logger import get_logger\n",
    "from utils.exceptions import PDFLoadError\n",
    "from llms.rag_provider import RAGProvider\n",
    "from llms.templates.template_parser import TemplateParser\n",
    "from mongo_db.chat_log_manager import ChatLogManager"
   ]
  },
  {
   "cell_type": "code",
   "execution_count": 2,
   "metadata": {},
   "outputs": [],
   "source": [
    "from motor.motor_asyncio import AsyncIOMotorClient\n",
    "\n",
    "mongo_conn = AsyncIOMotorClient(config.MONGODB_URL)\n",
    "db_client = mongo_conn[config.MONGODB_DATABASE]"
   ]
  },
  {
   "cell_type": "code",
   "execution_count": 3,
   "metadata": {},
   "outputs": [],
   "source": [
    "chat_log_manager = ChatLogManager(\n",
    "    mongo_conn=mongo_conn, db_client=db_client, collection_name=config.MONGODB_COLLECTION\n",
    ")"
   ]
  },
  {
   "cell_type": "code",
   "execution_count": 18,
   "metadata": {},
   "outputs": [],
   "source": [
    "r = await chat_log_manager.get_chat_history(user_id=\"1\", session_id=\"2\")"
   ]
  },
  {
   "cell_type": "code",
   "execution_count": 19,
   "metadata": {},
   "outputs": [
    {
     "data": {
      "text/plain": [
       "[{'role': 'system',\n",
       "  'content': 'أنت  سالم من ديسايسيف مساعد لتوليد استجابة للمستخدم.\\nسيتم تزويدك بمجموعة من الوثائق المرتبطة باستفسار المستخدم.\\nتجاهل الوثائق التي ليست ذات صلة باستفسار المستخدم.\\nيمكنك الاعتذار للمستخدم إذا لم تتمكن من توليد استجابة.\\nأجب بالإنجليزية إذا كان السؤال باللغة الإنجليزية، وباللهجة السعودية إذا كان السؤال باللغة العربية.\\nكن مهذبًا ومحترمًا مع المستخدم.\\nكن دقيقًا ومختصرًا في إجابتك. تجنب المعلومات غير الضرورية.'},\n",
       " {'role': 'user',\n",
       "  'content': \"## الوثيقة رقم: 1\\n### المحتوى: Contact, Support or Inquires \\nIf you have any questions support, please contact \\nMobile number: 00966570745585 \\nEmail Address: info@desaisiv.com\\n## الوثيقة رقم: 2\\n### المحتوى: o Reduce manual data entry and errors, allowing underwriters to focus on risk assessment. \\no Improve efficiency in policy pricing, claim evaluation, and overall decision-making for \\ninsurers. \\n \\nRequired Files for Feature Usage \\nTo utilize the platform’s features effectively, the following files may be required: \\n• Claims Experience (CE)– Essential for historical claims analysis and pricing estimation. \\n• Active List – Contains details of active policies necessary for generating quotations. \\n• Raw Data (Optional) – Additional data that can enhance analysis and accuracy. \\n• Providers List – Used for comparing provider networks across different insurance plans. \\n• National address – Used for requesting new quotation. \\n• Commercial License - Used for requesting new quotation. \\nFor specific file requirements per feature, please contact the Product Manager, Mohammad Rababah. \\n \\nDesaisiv Partnership \\nHealth insurance companies that Desaisiv has partnership with \\n- Al Rajhi Takaful\\n## الوثيقة رقم: 3\\n### المحتوى: o Enable insurers to revise offers, negotiate terms, and finalize agreements with clients \\nseamlessly. \\no Streamline the quotation process, reducing manual effort and improving transparency \\nbetween all parties. \\n• Provider Comparison \\no Compare provider networks across different insurance classes and tiers to assess \\ncoverage quality. \\no Upload network lists and evaluate them against competitors to identify the best options. \\no Ensure policyholders receive access to top-tier healthcare providers while optimizing \\ncosts. \\n• Underwriter Tool \\no Automate the conversion of PDF documents into structured Excel files for underwriting \\npurposes.\\n## الوثيقة رقم: 4\\n### المحتوى: Who is Desaisiv? \\nDesaisiv is an insurtech company specializing in health insurance management through AI-powered \\nsolutions. Founded in 2022 by serial entrepreneurs Saed Khawaldeh and Mohamad Nabhan, the \\ncompany operates primarily in the Middle East and North Africa (MENA) region, with a presence in Saudi \\nArabia, Jordan, and the United Arab Emirates.  \\n \\nIn July 2023, Desaisiv secured $2 million in a pre-seed funding round led by 500 Global, Terra VC, Oqal \\nangel investors, and other notable investors from the MENA region, the UK, and the USA. This funding \\naims to fuel Desaisiv's growth in the MENA region, enabling further development of AI products, \\nexpansion of operations and teams, and entry into new markets.  \\n \\nDesaisiv's mission is to revolutionize the insurance sector by leveraging artificial intelligence to create \\nsmarter, more efficient, and customer-centric insurance solutions. By collaborating with top machine\\n## الوثيقة رقم: 5\\n### المحتوى: smarter, more efficient, and customer-centric insurance solutions. By collaborating with top machine \\nlearning scientists from the University of Oxford and accessing an extensive database of patient records, \\nDesaisiv has achieved an impressive average prediction accuracy of over 95%.  \\n  \\nDesaisiv Ledger (bucket) \\nDesaisiv has 1 ledge total of insurance claims of over 1 billion SAR. \\nمحفظة تأمينية تتجاوز المليار ريال سعودي لشركة تكنولوجيا التأمين ديسايسف \\n \\n \\nGeneral Features \\nDesaisiv's platform offers a range of features designed to streamline health insurance processes for \\ninsurers and third-party administrators (TPAs): \\n• Effortless Data Management: Simplifies the input and maintenance of employee lists, claim \\nexperiences (CE), and interaction data, reducing the need for manual data entry.  \\nAdvanced OCR Technology: Utilizes Optical Character Recognition to extract data from PDFs, \\nensuring accuracy and efficiency in data processing.\\n\\nالسؤال: Hello\\n## الإجابة:\"},\n",
       " {'role': 'assistant', 'content': 'Hello! How can I assist you today?'},\n",
       " {'role': 'assistant',\n",
       "  'content': 'Hello Ahmad Hammad! Desaisiv can help your insurance in several ways:\\n\\n1. **Claims Experience Analytics**: You can gain insights into historical claims data, which helps in estimating future pricing accurately.\\n\\n2. **Quotation Comparison**: Easily compare multiple quotations from different insurance companies to find the most cost-effective and comprehensive option.\\n\\n3. **Streamlined Quotation Process**: Desaisiv simplifies the process of requesting new quotations by allowing you to upload necessary documents, making it easier to receive tailored offers.\\n\\n4. **Efficient Data Management**: The platform reduces manual data entry, allowing insurers to focus on risk assessment and improving overall decision-making.\\n\\nIf you have specific needs or questions, feel free to ask!'}]"
      ]
     },
     "execution_count": 19,
     "metadata": {},
     "output_type": "execute_result"
    }
   ],
   "source": [
    "r"
   ]
  },
  {
   "cell_type": "code",
   "execution_count": 3,
   "metadata": {},
   "outputs": [],
   "source": [
    "# logger.info(\"Loading PDFs...\")\n",
    "pdf_loader = PDFLoader(settings.PDF_DIRECTORY)\n",
    "pdf_docs = pdf_loader.load_pdfs()\n",
    "if not pdf_docs:\n",
    "    raise PDFLoadError(\"No PDFs found in the directory.\")\n",
    "\n",
    "llm_provider_factory = LLMProviderFactory(config, settings)\n",
    "embedding_client = llm_provider_factory.create(provider=settings.EMBEDDING_BACKEND)\n",
    "embedding_client.set_embedding_model(model_id=settings.EMBEDDING_MODEL_ID,\n",
    "                                        embedding_size=settings.EMBEDDING_MODEL_SIZE)\n",
    "\n",
    "# logger.info(\"Splitting text into chunks...\")\n",
    "text_processor = TextProcessor(settings.CHUNK_SIZE, settings.CHUNK_OVERLAP)\n",
    "documents = text_processor.split_documents(pdf_docs)"
   ]
  },
  {
   "cell_type": "code",
   "execution_count": 4,
   "metadata": {},
   "outputs": [],
   "source": [
    "r = embedding_client.embed_text([\"gello\", \"ahmad\"])"
   ]
  },
  {
   "cell_type": "code",
   "execution_count": 5,
   "metadata": {},
   "outputs": [
    {
     "data": {
      "text/plain": [
       "768"
      ]
     },
     "execution_count": 5,
     "metadata": {},
     "output_type": "execute_result"
    }
   ],
   "source": [
    "len(r)"
   ]
  },
  {
   "cell_type": "code",
   "execution_count": 6,
   "metadata": {},
   "outputs": [
    {
     "name": "stderr",
     "output_type": "stream",
     "text": [
      "`embedding_function` is expected to be an Embeddings object, support for passing in a function will soon be removed.\n"
     ]
    },
    {
     "name": "stdout",
     "output_type": "stream",
     "text": [
      "[[0.0708647072315216, -0.056666068732738495, 0.05287548154592514, 0.02913612499833107, -0.06023178994655609, 0.03287852555513382, -0.027754809707403183, 0.05062682926654816, -0.008207585662603378, -0.0011624735780060291, 0.032107558101415634, -0.005167887546122074, -0.005256227683275938, -0.029585855081677437, 0.04127885401248932, -0.031192036345601082, 0.0014857174828648567, 0.01218288391828537, -0.020093325525522232, -0.01592528633773327, 0.03472563624382019, 0.04478032886981964, -0.03372980281710625, -0.032717909663915634, 0.06003905087709427, -0.028172416612505913, 0.03797012194991112, -0.0720854103565216, 0.01896899938583374, -0.08063028752803802, 0.0305977500975132, -0.03527173772454262, 0.0020438653882592916, -0.031577520072460175, -0.030324699357151985, 0.0001880988565972075, 0.02094460092484951, 0.03462926298379898, 0.03771313279867172, 0.0016393085243180394, -0.005264258477836847, 0.0005395764601416886, 0.026630481705069542, 0.0028128246776759624, -0.01700945757329464, 0.07298486679792404, 0.06726686656475067, -0.02903975360095501, -0.05175115540623665, -0.007436618208885193, -0.01431107334792614, -0.03710278496146202, -0.008649284951388836, 0.02404453046619892, -0.024638818576931953, 0.037584636360406876, 0.031979065388441086, 0.012054389342665672, 0.030115894973278046, -0.04789632186293602, -0.002170352265238762, -0.04584040865302086, -0.02862214669585228, -0.0021743676625192165, 0.03556085005402565, 0.0005325493984855711, 0.043816618621349335, 0.07163567841053009, 0.016816716641187668, 0.030099833384156227, 0.01384528074413538, -0.024413952603936195, 0.11725121736526489, 0.002692361129447818, -0.02426939643919468, 0.06161310523748398, -0.04388086870312691, -0.06919427961111069, 0.008464573882520199, 0.0076494375243783, -0.03822711110115051, -0.05175115540623665, -0.02716052159667015, 0.047125354409217834, -0.02394816093146801, -0.004999238532036543, -0.045262183994054794, 0.010520486161112785, 0.05069107562303543, -0.034597139805555344, 0.007496850099414587, -0.03318370133638382, -0.043174147605895996, -0.060488779097795486, 0.05554174259305, -0.07292062044143677, -0.020173635333776474, 0.037681009620428085, -0.019049307331442833, -0.007661483716219664, -0.009781642816960812, -0.04741446673870087, -0.011636782437562943, 0.03870896250009537, 0.01564420387148857, 0.02561858855187893, -0.02487974427640438, 0.05589510127902031, -0.03806649148464203, 0.01084172260016203, -0.06578917801380157, 0.018487144261598587, -0.029842844232916832, 0.04866728559136391, -0.020607303828001022, 0.054674405604600906, -0.07279212772846222, -0.027979673817753792, -0.001756760524585843, -0.04355962947010994, -0.01348389033228159, -0.05120505392551422, 0.06466484814882278, -0.03835560381412506, 0.056666068732738495, 0.0019244056893512607, -0.0375203900039196, -0.05557386577129364, -0.05984630808234215, -0.07195691019296646, -0.024815497919917107, -0.03411528468132019, 0.057501282542943954, -0.052104514092206955, 0.007384417578577995, -0.013114468194544315, 0.06064939871430397, -0.022261669859290123, -0.037167031317949295, -0.06977250427007675, -0.00645684776827693, 0.015226596966385841, -0.07754642516374588, 0.016977334395051003, -0.04616164416074753, -0.008488667197525501, 0.010624888353049755, -0.02810816839337349, 0.03140084072947502, 0.003055759472772479, -0.01906536892056465, -0.016029687598347664, -0.06203071400523186, -0.010343805886805058, 0.0005872599431313574, -0.03231636434793472, 0.0030517440754920244, 0.019772090017795563, -0.027417510747909546, -0.008585037663578987, -0.06835906952619553, 0.02364298515021801, 0.0046137552708387375, -0.02695171907544136, 0.013323272578418255, 0.009572839364409447, -0.003913058899343014, -0.04449121654033661, -0.07118594646453857, 0.03231636434793472, -0.004027498885989189, -0.05557386577129364, -0.017041580751538277, -0.09559989720582962, 0.029473422095179558, -0.04776782542467117, -0.0013110452564433217, -0.010295621119439602, 0.04789632186293602, 0.07022223621606827, 0.021426456049084663, 0.03016408160328865, -0.06823056936264038, 0.017137952148914337, -0.0030818600207567215, 0.006372523494064808, -0.008617161773145199, -0.015025824308395386, 0.01384528074413538, 0.009315850213170052, 0.017057642340660095, -0.016752468422055244, 0.04860303923487663, -0.01887262798845768, 0.01026349700987339, -0.02997133880853653, -0.04124673083424568, 0.01114689651876688, -0.03186663240194321, 0.0033147563226521015, 0.03130447119474411, -0.08249346166849136, 0.08024480938911438, 0.015893161296844482, -0.01218288391828537, -0.05734066665172577, 0.0009330908069387078, -0.0003633984597399831, 0.04632226377725601, -0.03369767963886261, 0.07169992476701736, 0.026469863951206207, 0.012785201892256737, -0.003937151283025742, -0.03175419941544533, -0.03069412149488926, -0.0010123960673809052, -0.054674405604600906, 0.029071876779198647, 0.018069537356495857, -0.018712010234594345, -0.06925852596759796, 0.005894684698432684, 0.013451766222715378, 0.04407360777258873, 0.00733221648260951, 0.03723127767443657, 0.01782860979437828, -0.03411528468132019, -0.0624161958694458, 0.007777932099997997, 0.06996525079011917, -0.004549507983028889, 0.03694216534495354, 0.0006143642822280526, 0.029087940230965614, 0.04603315144777298, -0.013548137620091438, 0.011010371148586273, -0.08101577311754227, -0.058625608682632446, 0.016880962997674942, -0.01431107334792614, 0.028991568833589554, 0.0069266557693481445, -0.03787374868988991, 0.0025357583072036505, -0.011411916464567184, 0.04445909336209297, 0.004545492585748434, -0.07189266383647919, -0.01938660629093647, 0.003425181144848466, -0.03771313279867172, 0.016640035435557365, 0.021330084651708603, 0.03226817771792412, 0.041021864861249924, -0.008625192567706108, -0.02282383292913437, 0.0035095056518912315, -0.012985974550247192, 0.021330084651708603, -0.05756552889943123, -0.017475251108407974, 0.026148628443479538, 0.02280777134001255, 0.09225904196500778, 0.06376539170742035, -0.010440177284181118, 0.007938549853861332, -0.03938356041908264, 0.009612994268536568, -0.014969607815146446, -0.03687791898846626, 0.0069668106734752655, 0.029087940230965614, -0.01949903927743435, -0.04034727066755295, 0.03340856730937958, -0.0024072639644145966, -0.01824621669948101, 0.00856094527989626, -0.12059207260608673, 0.07690395414829254, -0.042467426508665085, 0.030308637768030167, -0.022679276764392853, -0.06925852596759796, -0.0804375484585762, -0.010014538653194904, -0.013620415702462196, -0.0020478807855397463, 0.009396159090101719, -0.0059870402328670025, 0.004425028804689646, -0.021795878186821938, -0.08371415734291077, 0.03194694221019745, 0.004702094942331314, 0.046707745641469955, 0.09180931001901627, 0.04860303923487663, -0.044651832431554794, -0.009171294048428535, 0.02780299447476864, 0.022743524983525276, 0.033119454979896545, -0.030035587027668953, -0.012118636630475521, 0.050658952444791794, 0.051911771297454834, 0.0035074979532510042, -0.07247088849544525, 0.02738538756966591, -0.04327051714062691, 0.003915066365152597, 0.023803602904081345, 0.04966311901807785, -0.048892151564359665, 0.0762614756822586, -0.013724816963076591, 0.004127885214984417, 0.002292823512107134, -0.015363122336566448, -0.08409964293241501, 0.017475251108407974, -0.0039391592144966125, 0.04063638299703598, -0.029312804341316223, -0.02094460092484951, -0.005376690998673439, 0.006183797027915716, 0.0025518201291561127, 0.05306822434067726, -0.01203832682222128, 0.016816716641187668, 0.04118248447775841, -0.05528475344181061, -0.008673378266394138, 0.004802481271326542, -0.030951108783483505, -0.058850474655628204, 0.013869374059140682, -0.03517536446452141, -0.024108778685331345, -0.01927417330443859, 0.04098974168300629, 0.003802633611485362, 0.05017709732055664, -0.00647692522034049, 0.042338933795690536, 0.0012799255782738328, 0.0681663230061531, 0.00891430489718914, 0.038419850170612335, 0.12251949310302734, -0.0429171584546566, -0.0735630914568901, 0.014214702881872654, -0.026261061429977417, -0.005513216368854046, -0.03069412149488926, 0.0031320531852543354, 0.004332673270255327, 0.034372273832559586, 0.06636740267276764, 0.06492184102535248, -0.01615818217396736, 0.004637848120182753, -0.014849144034087658, -0.04728597030043602, -0.03983329236507416, 0.020976724103093147, 0.03128840774297714, -0.015668297186493874, 0.05390343815088272, 0.020992787554860115, 0.03466138616204262, -0.05236150324344635, -0.016929147765040398, 0.06758809834718704, 0.0034874207340180874, 0.0028569945134222507, 0.04150371998548508, 0.00886611919850111, 0.011628750711679459, 0.0747837945818901, -0.0504019632935524, -0.0545780323445797, -0.035625096410512924, 0.03411528468132019, -0.03101535700261593, 0.004011437296867371, 0.029087940230965614, -0.04034727066755295, 0.044940948486328125, 0.05817588046193123, 0.03265366330742836, 0.05525263026356697, -0.03202725201845169, -0.01586906984448433, 0.0012558328453451395, -0.02632530778646469, -0.030421068891882896, 0.022422287613153458, 0.025120671838521957, -0.061934344470500946, -0.059878431260585785, -0.02446213737130165, 0.045776162296533585, -0.04584040865302086, 0.03098323382437229, -0.013339334167540073, -0.02404453046619892, -0.04590465500950813, 0.05236150324344635, 0.013291148468852043, -0.021314023062586784, -0.004188117105513811, 0.011652844026684761, -0.032926712185144424, 0.009099015966057777, 0.014841113239526749, -0.051172930747270584, -0.004834604915231466, 0.012311378493905067, -0.01982027478516102, -0.03764888644218445, -0.0010450215777382255, 0.02197255752980709, 0.07420556992292404, -0.09219479560852051, 0.0006786115118302405, 0.006753991357982159, 0.006569280754774809, 0.008898243308067322, -0.0468362420797348, 0.014005899429321289, 0.03584996238350868, -0.023161131888628006, -0.007135459687560797, -0.029826782643795013, 0.01250411942601204, -0.04461970925331116, -0.009749519638717175, 0.05663394555449486, 0.0414394736289978, -0.04436272010207176, -0.015596018172800541, -0.06177372485399246, 0.09232328832149506, -0.06957976520061493, 0.02531341463327408, -0.09046012163162231, -0.02873457968235016, 0.029055815190076828, -0.01254427433013916, -0.03398679196834564, 0.08146550506353378, 0.005782251711934805, 0.014808990061283112, 0.06395813077688217, -0.030196204781532288, 0.0789598599076271, -0.030838677659630775, -0.006593373138457537, -0.03231636434793472, 0.00048411302850581706, -0.023385995998978615, -0.05785464122891426, 0.023691171780228615, -0.0005122211878187954, 0.009155232459306717, 0.06248044595122337, -0.03491837531328201, -0.04294928163290024, -0.020157571882009506, -0.00839229580014944, -0.03584996238350868, -0.02767449989914894, 0.007918472401797771, 0.07047922909259796, 0.007605267222970724, -0.03027651272714138, 0.026485925540328026, 0.060071174055337906, -0.05637695640325546, -0.017651930451393127, 0.03347281366586685, -0.0010259482078254223, 0.008906274102628231, 0.0651145800948143, -0.016375016421079636, -0.009291757829487324, -0.009813765995204449, 0.06254468858242035, 0.03472563624382019, -0.007769900839775801, 0.0017316639423370361, 0.031577520072460175, -0.02642167918384075, -0.017957104369997978, -0.03501474857330322, -0.016720345243811607, 0.02704808861017227, -0.011652844026684761, -0.003846803680062294, -0.07446255534887314, 0.05329309031367302, -0.040604256093502045, 0.0009943264303728938, 0.01518644206225872, -0.016254551708698273, -0.03233242407441139, -0.04985586181282997, 0.03713490813970566, 0.028027860447764397, -0.002403248567134142, 0.04966311901807785, -0.0038849504198879004, -0.040893372148275375, 0.012375624850392342, -0.0001820756879169494, 0.014479722827672958, -0.05505988746881485, 0.013829219155013561, -0.04612952098250389, 0.03495050221681595, -0.07202115654945374, -0.005075532011687756, -0.060296036303043365, -0.0029794659931212664, 0.03909444808959961, -0.047125354409217834, -0.01699339598417282, 0.02822060137987137, 0.03533598408102989, -0.007878318428993225, 0.028959445655345917, -0.014021961018443108, 0.019450852647423744, 0.05740491300821304, 0.003766494570299983, 0.02155495062470436, -0.003876919625326991, 0.021024910733103752, 0.01742706447839737, -0.01342767383903265, 0.021811939775943756, 0.05322884023189545, 0.014696557074785233, -0.007561097387224436, -0.007950596511363983, -0.0008086118032224476, -0.039126571267843246, 0.013355395756661892, 0.043816618621349335, 0.015202503651380539, 0.007031057495623827, 0.005208041984587908, -0.01291369553655386, 0.006119549740105867, -0.010223343037068844, -0.006858393084257841, -0.0034874207340180874, -0.006031210068613291, -0.010576702654361725, -0.05361432582139969, 0.01611802726984024, -0.02561858855187893, 0.06829482316970825, -0.049213387072086334, -0.060713645070791245, 0.005645726341754198, 0.03283034265041351, -0.009556777775287628, 0.0044892760924994946, 0.0708647072315216, 0.0031179990619421005, -0.0020518964156508446, -0.007380402181297541, 0.019354481250047684, -0.04779994860291481, 0.0024594648275524378, 0.04934188351035118, 0.025988010689616203, 0.015628142282366753, -0.05435316637158394, -0.02436576783657074, -0.013524044305086136, 0.020077263936400414, -0.005477077327668667, -0.03372980281710625, 0.01478489674627781, -0.010648980736732483, 0.027128398418426514, -0.02436576783657074, -0.0429171584546566, -0.01959540881216526, 0.027915427461266518, -0.029216434806585312, -0.02965010330080986, 0.049727365374565125, -0.014632309786975384, 0.010143033228814602, -0.05155841261148453, 0.026678668335080147, -0.0464828796684742, 0.008099168539047241, 0.02674291469156742, -0.011692997999489307, -0.0208482313901186, 0.01171709131449461, -0.000635445408988744, 0.027947550639510155, -0.014712618663907051, -0.036556679755449295, -0.03350493684411049, 0.045776162296533585, -0.02725689299404621, 0.015074009075760841, 0.04397723823785782, 0.08127276599407196, -0.01472868025302887, 0.018165908753871918, -0.038419850170612335, -0.059974800795316696, 0.025634650141000748, -0.029280681163072586, -0.0028650255408138037, -0.006284183356910944, 0.014118331484496593, 0.006139627192169428, -0.013981806114315987, -0.013186746276915073, -0.0005077038076706231, -0.0064247241243720055, -0.03175419941544533, -0.026148628443479538, -0.017587682232260704, 0.011901801452040672, 0.005452984943985939, -0.057308539748191833, -0.004384874366223812, -0.012206976301968098, -0.002850971417501569, -0.03514324128627777, -0.023707233369350433, -0.04031514376401901, 0.003399080829694867, 0.03588208556175232, -0.016961272805929184, -0.04336689040064812, 0.012295315973460674, -0.007344263140112162, 0.04410573095083237, -0.00944434478878975, -0.006986887659877539, 0.009998477064073086, -0.013933621346950531, 0.04767145588994026, -0.03745614364743233, 0.021281899884343147, 0.061323992908000946, -0.002300854306668043, -0.014094239100813866, 0.05528475344181061, -0.0066576204262673855, -0.02353055216372013, -0.016334861516952515, 0.0468362420797348, 0.001212666742503643, -0.02582739107310772, -0.005195995792746544, 0.0018802357371896505, 0.011082649230957031, 0.0642472431063652, -0.032091498374938965, 0.008360172621905804, -0.022566843777894974, 0.008360172621905804, -0.04924551397562027, -0.044940948486328125, -0.02923249639570713, 0.019434791058301926, -0.0006891520461067557, -0.00010716239194152877, 0.00942828319966793, -0.018936874344944954, -0.017876796424388885, 0.008745656348764896, 0.030356822535395622, 0.027642376720905304, 0.048570916056632996, 0.02333781123161316, -0.025377660989761353, 0.00810719933360815, -0.003754448378458619, -0.15316542983055115, 0.0356893427670002, 0.02155495062470436, -0.0005089586484245956, 0.010897939093410969, -0.06447210907936096, -0.0006103488267399371, -0.04320627078413963, -0.0013090375578030944, -0.029360990971326828, -0.04834605008363724, -0.002889118157327175, 0.020559117197990417, 0.0017025519628077745, 0.020077263936400414, 0.03867683932185173, 0.057822518050670624, 0.017892858013510704, -0.01720220036804676, -0.0024193101562559605, -0.022358041256666183, 0.037070658057928085, 0.02932886593043804, 0.029682226479053497, 0.00932388100773096, -0.027417510747909546, 0.011379793286323547, 0.0035596988163888454, 0.022213485091924667, -0.01680065505206585, 0.017957104369997978, 0.0064849560149014, -0.03877321258187294, -0.0489242747426033, 0.018631700426340103, -0.002628113841637969, -0.006332369055598974, -0.026148628443479538, 0.0198042131960392, 0.0008969517657533288, -0.023000512272119522, 0.01347585953772068, -0.0024373799096792936, 0.020494870841503143, -0.0019776104018092155, 0.003236454911530018, 0.03099929541349411, 0.00023088853049557656, 0.03514324128627777, 0.0005154837272129953, -0.002634136937558651, 0.04654712975025177, 0.012399718165397644, 0.049502499401569366, -0.013700724579393864, 0.02592376247048378, -0.020655488595366478, 0.03552872687578201, -0.006103488150984049, 0.03175419941544533, -0.033119454979896545, -0.011540411040186882, -0.023578738793730736, -0.03366555646061897, 0.021394332870841026, -0.03517536446452141, -0.022341979667544365, 0.001556991832330823, 0.003491436131298542]]\n",
      "['Insurance Pricing Policy \\n• Under 18 years old → 1,000 SR \\n• Ages 19 - 30 → 1,200 SR \\n• Ages 31 - 65 → 1,500 SR \\n• Over 65 years old → 2,000 SR']\n",
      "<class 'list'>\n",
      "1\n",
      "(1, 768)\n"
     ]
    }
   ],
   "source": [
    "vector_store = VectorStore()\n",
    "vector_store.build_vector_store(documents, embedding_client.embed_text)\n",
    "vector_store.save_vector_store(settings.VECTOR_STORE_PATH)"
   ]
  },
  {
   "cell_type": "code",
   "execution_count": 8,
   "metadata": {},
   "outputs": [
    {
     "ename": "NameError",
     "evalue": "name 'embedding_client' is not defined",
     "output_type": "error",
     "traceback": [
      "\u001b[31m---------------------------------------------------------------------------\u001b[39m",
      "\u001b[31mNameError\u001b[39m                                 Traceback (most recent call last)",
      "\u001b[36mCell\u001b[39m\u001b[36m \u001b[39m\u001b[32mIn[8]\u001b[39m\u001b[32m, line 2\u001b[39m\n\u001b[32m      1\u001b[39m vector_store = VectorStore()\n\u001b[32m----> \u001b[39m\u001b[32m2\u001b[39m vector_store.load_vector_store(settings.VECTOR_STORE_PATH, \u001b[43membedding_client\u001b[49m.embed_text)\n",
      "\u001b[31mNameError\u001b[39m: name 'embedding_client' is not defined"
     ]
    }
   ],
   "source": [
    "vector_store = VectorStore()\n",
    "vector_store.load_vector_store(settings.VECTOR_STORE_PATH, embedding_client.embed_text)"
   ]
  },
  {
   "cell_type": "code",
   "execution_count": 14,
   "metadata": {},
   "outputs": [],
   "source": [
    "q = \"Insurance Pricing Policy\"\n",
    "result = vector_store.query(q, k=2)"
   ]
  },
  {
   "cell_type": "code",
   "execution_count": 15,
   "metadata": {},
   "outputs": [
    {
     "data": {
      "text/plain": [
       "[(Document(id='238c1e8d-8ef9-435f-b238-49663213fde3', metadata={}, page_content='Insurance Pricing Policy \\n• Under 18 years old → 1,000 SR \\n• Ages 19 - 30 → 1,200 SR \\n• Ages 31 - 65 → 1,500 SR \\n• Over 65 years old → 2,000 SR'),\n",
       "  np.float32(0.71244025))]"
      ]
     },
     "execution_count": 15,
     "metadata": {},
     "output_type": "execute_result"
    }
   ],
   "source": [
    "result"
   ]
  },
  {
   "cell_type": "code",
   "execution_count": 9,
   "metadata": {},
   "outputs": [
    {
     "data": {
      "text/plain": [
       "<coroutine object FAISS.asimilarity_search at 0x7f72e1573400>"
      ]
     },
     "execution_count": 9,
     "metadata": {},
     "output_type": "execute_result"
    }
   ],
   "source": [
    "query_vector = embedding_client.embed_text(q)  # If you have an embedding function\n",
    "vector_store.vector_db.asimilarity_search(q)"
   ]
  },
  {
   "cell_type": "code",
   "execution_count": 14,
   "metadata": {},
   "outputs": [
    {
     "ename": "IndexError",
     "evalue": "list index out of range",
     "output_type": "error",
     "traceback": [
      "\u001b[31m---------------------------------------------------------------------------\u001b[39m",
      "\u001b[31mIndexError\u001b[39m                                Traceback (most recent call last)",
      "\u001b[36mCell\u001b[39m\u001b[36m \u001b[39m\u001b[32mIn[14]\u001b[39m\u001b[32m, line 1\u001b[39m\n\u001b[32m----> \u001b[39m\u001b[32m1\u001b[39m \u001b[43mquery_vector\u001b[49m\u001b[43m[\u001b[49m\u001b[32;43m1\u001b[39;49m\u001b[43m]\u001b[49m\n",
      "\u001b[31mIndexError\u001b[39m: list index out of range"
     ]
    }
   ],
   "source": [
    "query_vector[1]"
   ]
  },
  {
   "cell_type": "code",
   "execution_count": 2,
   "metadata": {},
   "outputs": [
    {
     "data": {
      "text/plain": [
       "'ar'"
      ]
     },
     "execution_count": 2,
     "metadata": {},
     "output_type": "execute_result"
    }
   ],
   "source": [
    "settings.PRIMARY_LANG"
   ]
  },
  {
   "cell_type": "code",
   "execution_count": 3,
   "metadata": {},
   "outputs": [
    {
     "data": {
      "text/plain": [
       "'en'"
      ]
     },
     "execution_count": 3,
     "metadata": {},
     "output_type": "execute_result"
    }
   ],
   "source": [
    "settings.DEFAULT_LANG"
   ]
  },
  {
   "cell_type": "code",
   "execution_count": 9,
   "metadata": {},
   "outputs": [],
   "source": [
    "template_parser = TemplateParser(language=settings.PRIMARY_LANG, default_language=settings.DEFAULT_LANG)\n",
    "llm_provider_factory = LLMProviderFactory(config, settings)"
   ]
  },
  {
   "cell_type": "code",
   "execution_count": 10,
   "metadata": {},
   "outputs": [
    {
     "name": "stderr",
     "output_type": "stream",
     "text": [
      "`embedding_function` is expected to be an Embeddings object, support for passing in a function will soon be removed.\n"
     ]
    }
   ],
   "source": [
    "generation_client = llm_provider_factory.create(provider=settings.GENERATION_BACKEND)\n",
    "generation_client.set_generation_model(model_id=settings.GENERATION_MODEL_ID)\n",
    "\n",
    "embedding_client = llm_provider_factory.create(provider=settings.EMBEDDING_BACKEND)\n",
    "embedding_client.set_embedding_model(model_id=settings.EMBEDDING_MODEL_ID,\n",
    "                                            embedding_size=settings.EMBEDDING_MODEL_SIZE)\n",
    "\n",
    "vector_store = VectorStore()\n",
    "vector_store.load_vector_store(settings.VECTOR_STORE_PATH, embedding_client.embed_text)"
   ]
  },
  {
   "cell_type": "code",
   "execution_count": 11,
   "metadata": {},
   "outputs": [],
   "source": [
    "rag_object = RAGProvider(vectordb_client=vector_store, generation_client=generation_client,\n",
    "                         embedding_client=embedding_client, template_parser=template_parser)"
   ]
  },
  {
   "cell_type": "code",
   "execution_count": 12,
   "metadata": {},
   "outputs": [
    {
     "data": {
      "text/plain": [
       "'en'"
      ]
     },
     "execution_count": 12,
     "metadata": {},
     "output_type": "execute_result"
    }
   ],
   "source": [
    "rag_object.template_parser.default_language"
   ]
  },
  {
   "cell_type": "code",
   "execution_count": 14,
   "metadata": {},
   "outputs": [
    {
     "data": {
      "text/plain": [
       "'Your name is Ahmad.'"
      ]
     },
     "execution_count": 14,
     "metadata": {},
     "output_type": "execute_result"
    }
   ],
   "source": [
    "generation_client.generate_text(\"What's my name?\", chat_history=[{\"role\": \"user\", \"content\": \"my is name is ahmad\"}])"
   ]
  },
  {
   "cell_type": "code",
   "execution_count": 13,
   "metadata": {},
   "outputs": [],
   "source": [
    "r = rag_object.answer_rag_question(\"كيف ممكن تساعدني ديسايسيف في التامين\")"
   ]
  },
  {
   "cell_type": "code",
   "execution_count": 17,
   "metadata": {},
   "outputs": [
    {
     "name": "stdout",
     "output_type": "stream",
     "text": [
      "## الوثيقة رقم: 1\n",
      "### المحتوى: smarter, more efficient, and customer-centric insurance solutions. By collaborating with top machine \n",
      "learning scientists from the University of Oxford and accessing an extensive database of patient records, \n",
      "Desaisiv has achieved an impressive average prediction accuracy of over 95%.  \n",
      "  \n",
      "Desaisiv Ledger (bucket) \n",
      "Desaisiv has 1 ledge total of insurance claims of over 1 billion SAR. \n",
      "محفظة تأمينية تتجاوز المليار ريال سعودي لشركة تكنولوجيا التأمين ديسايسف \n",
      " \n",
      " \n",
      "General Features \n",
      "Desaisiv's platform offers a range of features designed to streamline health insurance processes for \n",
      "insurers and third-party administrators (TPAs): \n",
      "• Effortless Data Management: Simplifies the input and maintenance of employee lists, claim \n",
      "experiences (CE), and interaction data, reducing the need for manual data entry.  \n",
      "Advanced OCR Technology: Utilizes Optical Character Recognition to extract data from PDFs, \n",
      "ensuring accuracy and efficiency in data processing.\n",
      "## الوثيقة رقم: 2\n",
      "### المحتوى: Desaisiv Partnership \n",
      "Health insurance companies that Desaisiv has partnership with \n",
      "- Al Rajhi Takaful  \n",
      "- Al Saqr Insurance \n",
      "- United Cooperative Assurance \n",
      "- Al Etihad \n",
      "- Arabian Shield  \n",
      " \n",
      " \n",
      "شركات التأمين التي يوجد بينها شراكة  \n",
      "- تكافل الراجحي  \n",
      "- الصقر للتأمين \n",
      "- المتحدة للتأمين التعاوني \n",
      "- الاتحاد للتأمين التعاوني \n",
      "- الدرع العربي\n",
      "## الوثيقة رقم: 3\n",
      "### المحتوى: o Reduce manual data entry and errors, allowing underwriters to focus on risk assessment. \n",
      "o Improve efficiency in policy pricing, claim evaluation, and overall decision-making for \n",
      "insurers. \n",
      " \n",
      "Required Files for Feature Usage \n",
      "To utilize the platform’s features effectively, the following files may be required: \n",
      "• Claims Experience (CE)– Essential for historical claims analysis and pricing estimation. \n",
      "• Active List – Contains details of active policies necessary for generating quotations. \n",
      "• Raw Data (Optional) – Additional data that can enhance analysis and accuracy. \n",
      "• Providers List – Used for comparing provider networks across different insurance plans. \n",
      "• National address – Used for requesting new quotation. \n",
      "• Commercial License - Used for requesting new quotation. \n",
      "For specific file requirements per feature, please contact the Product Manager, Mohammad Rababah. \n",
      " \n",
      "Desaisiv Partnership \n",
      "Health insurance companies that Desaisiv has partnership with \n",
      "- Al Rajhi Takaful\n",
      "## الوثيقة رقم: 4\n",
      "### المحتوى: Key Features of Desaisiv \n",
      "• Claims Experience Analytics \n",
      "o Gain deep insights into historical claims data to estimate future pricing with high \n",
      "accuracy. \n",
      "o Utilize various factors, such as claim frequency, severity, and trends, to optimize pricing \n",
      "strategies. \n",
      "o Ensure competitive and data-driven pricing models that align with market conditions. \n",
      "• Quotation Comparison \n",
      "o Easily upload multiple quotations from different insurance companies for side-by-side \n",
      "analysis. \n",
      "o Compare key factors such as coverage, pricing, deductibles, and policy terms. \n",
      "o Simplify decision-making by identifying the most cost-effective and comprehensive \n",
      "insurance option. \n",
      "• Request New Quotation \n",
      "o Upload claims experience reports and active policies to receive tailored quotation offers \n",
      "from insurers. \n",
      "o Enable insurers to revise offers, negotiate terms, and finalize agreements with clients \n",
      "seamlessly. \n",
      "o Streamline the quotation process, reducing manual effort and improving transparency\n",
      "## الوثيقة رقم: 5\n",
      "### المحتوى: Insurance Pricing Policy \n",
      "• Under 18 years old → 1,000 SR \n",
      "• Ages 19 - 30 → 1,200 SR \n",
      "• Ages 31 - 65 → 1,500 SR \n",
      "• Over 65 years old → 2,000 SR\n",
      "\n",
      "السؤال: كيف ممكن تساعدني ديسايسيف في التامين\n",
      "## الإجابة:\n"
     ]
    }
   ],
   "source": [
    "print(r[1])"
   ]
  },
  {
   "cell_type": "code",
   "execution_count": 13,
   "metadata": {},
   "outputs": [
    {
     "name": "stdout",
     "output_type": "stream",
     "text": [
      "[{'role': 'system', 'content': \"You are an assistant to generate a response for the user.\\nYou will be provided by a set of docuemnts associated with the user's query.\\nIgnore the documents that are not relevant to the user's query.\\nYou can applogize to the user if you are not able to generate a response.\\nYou have to generate response in the same language as the user's query.\\nBe polite and respectful to the user.\\nBe precise and concise in your response. Avoid unnecessary information.\"}, {'role': 'user', 'content': \"## Document No: 1\\n### Content: Contact, Support or Inquires \\nIf you have any questions support, please contact \\nMobile number: 00966570745585 \\nEmail Address: info@desaisiv.com\\n## Document No: 2\\n### Content: Who is Desaisiv? \\nDesaisiv is an insurtech company specializing in health insurance management through AI-powered \\nsolutions. Founded in 2022 by serial entrepreneurs Saed Khawaldeh and Mohamad Nabhan, the \\ncompany operates primarily in the Middle East and North Africa (MENA) region, with a presence in Saudi \\nArabia, Jordan, and the United Arab Emirates.  \\n \\nIn July 2023, Desaisiv secured $2 million in a pre-seed funding round led by 500 Global, Terra VC, Oqal \\nangel investors, and other notable investors from the MENA region, the UK, and the USA. This funding \\naims to fuel Desaisiv's growth in the MENA region, enabling further development of AI products, \\nexpansion of operations and teams, and entry into new markets.  \\n \\nDesaisiv's mission is to revolutionize the insurance sector by leveraging artificial intelligence to create \\nsmarter, more efficient, and customer-centric insurance solutions. By collaborating with top machine\\n## Document No: 3\\n### Content: smarter, more efficient, and customer-centric insurance solutions. By collaborating with top machine \\nlearning scientists from the University of Oxford and accessing an extensive database of patient records, \\nDesaisiv has achieved an impressive average prediction accuracy of over 95%.  \\n  \\nDesaisiv Ledger (bucket) \\nDesaisiv has 1 ledge total of insurance claims of over 1 billion SAR. \\nمحفظة تأمينية تتجاوز المليار ريال سعودي لشركة تكنولوجيا التأمين ديسايسف \\n \\n \\nGeneral Features \\nDesaisiv's platform offers a range of features designed to streamline health insurance processes for \\ninsurers and third-party administrators (TPAs): \\n• Effortless Data Management: Simplifies the input and maintenance of employee lists, claim \\nexperiences (CE), and interaction data, reducing the need for manual data entry.  \\nAdvanced OCR Technology: Utilizes Optical Character Recognition to extract data from PDFs, \\nensuring accuracy and efficiency in data processing.\\n## Document No: 4\\n### Content: Key Features of Desaisiv \\n• Claims Experience Analytics \\no Gain deep insights into historical claims data to estimate future pricing with high \\naccuracy. \\no Utilize various factors, such as claim frequency, severity, and trends, to optimize pricing \\nstrategies. \\no Ensure competitive and data-driven pricing models that align with market conditions. \\n• Quotation Comparison \\no Easily upload multiple quotations from different insurance companies for side-by-side \\nanalysis. \\no Compare key factors such as coverage, pricing, deductibles, and policy terms. \\no Simplify decision-making by identifying the most cost-effective and comprehensive \\ninsurance option. \\n• Request New Quotation \\no Upload claims experience reports and active policies to receive tailored quotation offers \\nfrom insurers. \\no Enable insurers to revise offers, negotiate terms, and finalize agreements with clients \\nseamlessly. \\no Streamline the quotation process, reducing manual effort and improving transparency\\n## Document No: 5\\n### Content: Desaisiv Partnership \\nHealth insurance companies that Desaisiv has partnership with \\n- Al Rajhi Takaful  \\n- Al Saqr Insurance \\n- United Cooperative Assurance \\n- Al Etihad \\n- Arabian Shield  \\n \\n \\nشركات التأمين التي يوجد بينها شراكة  \\n- تكافل الراجحي  \\n- الصقر للتأمين \\n- المتحدة للتأمين التعاوني \\n- الاتحاد للتأمين التعاوني \\n- الدرع العربي\\n\\nQuestion: My name is ahmad hammad, how can desaisiv help me?\\n## Answer:\"}]\n"
     ]
    }
   ],
   "source": [
    "print(r[2])"
   ]
  },
  {
   "cell_type": "code",
   "execution_count": 20,
   "metadata": {},
   "outputs": [],
   "source": [
    "r = rag_object.answer_rag_question(\"What's my name?\")"
   ]
  },
  {
   "cell_type": "code",
   "execution_count": 21,
   "metadata": {},
   "outputs": [
    {
     "name": "stdout",
     "output_type": "stream",
     "text": [
      "I'm sorry, but I don't have access to your name. If you have any other questions or need assistance, feel free to ask!\n"
     ]
    }
   ],
   "source": [
    "print(r[0])"
   ]
  },
  {
   "cell_type": "code",
   "execution_count": 22,
   "metadata": {},
   "outputs": [
    {
     "data": {
      "text/plain": [
       "{'role': 'user',\n",
       " 'content': \"## Document No: 1\\n### Content: Contact, Support or Inquires \\nIf you have any questions support, please contact \\nMobile number: 00966570745585 \\nEmail Address: info@desaisiv.com\\n## Document No: 2\\n### Content: Advanced OCR Technology: Utilizes Optical Character Recognition to extract data from PDFs, \\nensuring accuracy and efficiency in data processing.  \\n• AI-Powered Analytics: Provides comprehensive insights into health insurance consumption, \\nincluding employee utilization patterns, preferred healthcare providers, and types of medical \\nvisits.  \\n• Future Cost Predictions: Offers predictive analysis to anticipate future health insurance costs, \\naiding in effective budgeting and planning.  \\n• Customization and Optimization: Allows for tailoring of health insurance benefits to align with \\norganizational needs and budgets, either manually or through an optimization algorithm.\\n## Document No: 3\\n### Content: Insurance Pricing Policy \\n• Under 18 years old → 1,000 SR \\n• Ages 19 - 30 → 1,200 SR \\n• Ages 31 - 65 → 1,500 SR \\n• Over 65 years old → 2,000 SR\\n## Document No: 4\\n### Content: Who is Desaisiv? \\nDesaisiv is an insurtech company specializing in health insurance management through AI-powered \\nsolutions. Founded in 2022 by serial entrepreneurs Saed Khawaldeh and Mohamad Nabhan, the \\ncompany operates primarily in the Middle East and North Africa (MENA) region, with a presence in Saudi \\nArabia, Jordan, and the United Arab Emirates.  \\n \\nIn July 2023, Desaisiv secured $2 million in a pre-seed funding round led by 500 Global, Terra VC, Oqal \\nangel investors, and other notable investors from the MENA region, the UK, and the USA. This funding \\naims to fuel Desaisiv's growth in the MENA region, enabling further development of AI products, \\nexpansion of operations and teams, and entry into new markets.  \\n \\nDesaisiv's mission is to revolutionize the insurance sector by leveraging artificial intelligence to create \\nsmarter, more efficient, and customer-centric insurance solutions. By collaborating with top machine\\n## Document No: 5\\n### Content: smarter, more efficient, and customer-centric insurance solutions. By collaborating with top machine \\nlearning scientists from the University of Oxford and accessing an extensive database of patient records, \\nDesaisiv has achieved an impressive average prediction accuracy of over 95%.  \\n  \\nDesaisiv Ledger (bucket) \\nDesaisiv has 1 ledge total of insurance claims of over 1 billion SAR. \\nمحفظة تأمينية تتجاوز المليار ريال سعودي لشركة تكنولوجيا التأمين ديسايسف \\n \\n \\nGeneral Features \\nDesaisiv's platform offers a range of features designed to streamline health insurance processes for \\ninsurers and third-party administrators (TPAs): \\n• Effortless Data Management: Simplifies the input and maintenance of employee lists, claim \\nexperiences (CE), and interaction data, reducing the need for manual data entry.  \\nAdvanced OCR Technology: Utilizes Optical Character Recognition to extract data from PDFs, \\nensuring accuracy and efficiency in data processing.\\n\\nQuestion: What's my name?\\n## Answer:\"}"
      ]
     },
     "execution_count": 22,
     "metadata": {},
     "output_type": "execute_result"
    }
   ],
   "source": [
    "r[2][1]"
   ]
  },
  {
   "cell_type": "code",
   "execution_count": 18,
   "metadata": {},
   "outputs": [
    {
     "data": {
      "text/plain": [
       "2"
      ]
     },
     "execution_count": 18,
     "metadata": {},
     "output_type": "execute_result"
    }
   ],
   "source": [
    "len(r[2])"
   ]
  },
  {
   "cell_type": "code",
   "execution_count": 16,
   "metadata": {},
   "outputs": [
    {
     "name": "stdout",
     "output_type": "stream",
     "text": [
      "[{'role': 'system', 'content': \"You are an assistant to generate a response for the user.\\nYou will be provided by a set of docuemnts associated with the user's query.\\nIgnore the documents that are not relevant to the user's query.\\nYou can applogize to the user if you are not able to generate a response.\\nYou have to generate response in the same language as the user's query.\\nBe polite and respectful to the user.\\nBe precise and concise in your response. Avoid unnecessary information.\"}, {'role': 'user', 'content': \"## Document No: 1\\n### Content: Insurance Pricing Policy \\n• Under 18 years old → 1,000 SR \\n• Ages 19 - 30 → 1,200 SR \\n• Ages 31 - 65 → 1,500 SR \\n• Over 65 years old → 2,000 SR\\n## Document No: 2\\n### Content: o Reduce manual data entry and errors, allowing underwriters to focus on risk assessment. \\no Improve efficiency in policy pricing, claim evaluation, and overall decision-making for \\ninsurers. \\n \\nRequired Files for Feature Usage \\nTo utilize the platform’s features effectively, the following files may be required: \\n• Claims Experience (CE)– Essential for historical claims analysis and pricing estimation. \\n• Active List – Contains details of active policies necessary for generating quotations. \\n• Raw Data (Optional) – Additional data that can enhance analysis and accuracy. \\n• Providers List – Used for comparing provider networks across different insurance plans. \\n• National address – Used for requesting new quotation. \\n• Commercial License - Used for requesting new quotation. \\nFor specific file requirements per feature, please contact the Product Manager, Mohammad Rababah. \\n \\nDesaisiv Partnership \\nHealth insurance companies that Desaisiv has partnership with \\n- Al Rajhi Takaful\\n## Document No: 3\\n### Content: Advanced OCR Technology: Utilizes Optical Character Recognition to extract data from PDFs, \\nensuring accuracy and efficiency in data processing.  \\n• AI-Powered Analytics: Provides comprehensive insights into health insurance consumption, \\nincluding employee utilization patterns, preferred healthcare providers, and types of medical \\nvisits.  \\n• Future Cost Predictions: Offers predictive analysis to anticipate future health insurance costs, \\naiding in effective budgeting and planning.  \\n• Customization and Optimization: Allows for tailoring of health insurance benefits to align with \\norganizational needs and budgets, either manually or through an optimization algorithm.\\n## Document No: 4\\n### Content: o Enable insurers to revise offers, negotiate terms, and finalize agreements with clients \\nseamlessly. \\no Streamline the quotation process, reducing manual effort and improving transparency \\nbetween all parties. \\n• Provider Comparison \\no Compare provider networks across different insurance classes and tiers to assess \\ncoverage quality. \\no Upload network lists and evaluate them against competitors to identify the best options. \\no Ensure policyholders receive access to top-tier healthcare providers while optimizing \\ncosts. \\n• Underwriter Tool \\no Automate the conversion of PDF documents into structured Excel files for underwriting \\npurposes.\\n## Document No: 5\\n### Content: smarter, more efficient, and customer-centric insurance solutions. By collaborating with top machine \\nlearning scientists from the University of Oxford and accessing an extensive database of patient records, \\nDesaisiv has achieved an impressive average prediction accuracy of over 95%.  \\n  \\nDesaisiv Ledger (bucket) \\nDesaisiv has 1 ledge total of insurance claims of over 1 billion SAR. \\nمحفظة تأمينية تتجاوز المليار ريال سعودي لشركة تكنولوجيا التأمين ديسايسف \\n \\n \\nGeneral Features \\nDesaisiv's platform offers a range of features designed to streamline health insurance processes for \\ninsurers and third-party administrators (TPAs): \\n• Effortless Data Management: Simplifies the input and maintenance of employee lists, claim \\nexperiences (CE), and interaction data, reducing the need for manual data entry.  \\nAdvanced OCR Technology: Utilizes Optical Character Recognition to extract data from PDFs, \\nensuring accuracy and efficiency in data processing.\\n\\nQuestion: if i have 1k people ages between 22-30, how much likely would be my insurance plan?\\n## Answer:\"}]\n"
     ]
    }
   ],
   "source": [
    "print(r[2])"
   ]
  },
  {
   "cell_type": "code",
   "execution_count": 12,
   "metadata": {},
   "outputs": [
    {
     "data": {
      "text/plain": [
       "[{'role': 'system',\n",
       "  'content': \"You are an assistant to generate a response for the user.\\nYou will be provided by a set of docuemnts associated with the user's query.\\nIgnore the documents that are not relevant to the user's query.\\nYou can applogize to the user if you are not able to generate a response.\\nYou have to generate response in the same language as the user's query.\\nBe polite and respectful to the user.\\nBe precise and concise in your response. Avoid unnecessary information.\"},\n",
       " {'role': 'user',\n",
       "  'content': \"## Document No: 1\\n### Content: o Enable insurers to revise offers, negotiate terms, and finalize agreements with clients \\nseamlessly. \\no Streamline the quotation process, reducing manual effort and improving transparency \\nbetween all parties. \\n• Provider Comparison \\no Compare provider networks across different insurance classes and tiers to assess \\ncoverage quality. \\no Upload network lists and evaluate them against competitors to identify the best options. \\no Ensure policyholders receive access to top-tier healthcare providers while optimizing \\ncosts. \\n• Underwriter Tool \\no Automate the conversion of PDF documents into structured Excel files for underwriting \\npurposes.\\n## Document No: 2\\n### Content: o Reduce manual data entry and errors, allowing underwriters to focus on risk assessment. \\no Improve efficiency in policy pricing, claim evaluation, and overall decision-making for \\ninsurers. \\n \\nRequired Files for Feature Usage \\nTo utilize the platform’s features effectively, the following files may be required: \\n• Claims Experience (CE)– Essential for historical claims analysis and pricing estimation. \\n• Active List – Contains details of active policies necessary for generating quotations. \\n• Raw Data (Optional) – Additional data that can enhance analysis and accuracy. \\n• Providers List – Used for comparing provider networks across different insurance plans. \\n• National address – Used for requesting new quotation. \\n• Commercial License - Used for requesting new quotation. \\nFor specific file requirements per feature, please contact the Product Manager, Mohammad Rababah. \\n \\nDesaisiv Partnership \\nHealth insurance companies that Desaisiv has partnership with \\n- Al Rajhi Takaful\\n## Document No: 3\\n### Content: smarter, more efficient, and customer-centric insurance solutions. By collaborating with top machine \\nlearning scientists from the University of Oxford and accessing an extensive database of patient records, \\nDesaisiv has achieved an impressive average prediction accuracy of over 95%.  \\n  \\nDesaisiv Ledger (bucket) \\nDesaisiv has 1 ledge total of insurance claims of over 1 billion SAR. \\nمحفظة تأمينية تتجاوز المليار ريال سعودي لشركة تكنولوجيا التأمين ديسايسف \\n \\n \\nGeneral Features \\nDesaisiv's platform offers a range of features designed to streamline health insurance processes for \\ninsurers and third-party administrators (TPAs): \\n• Effortless Data Management: Simplifies the input and maintenance of employee lists, claim \\nexperiences (CE), and interaction data, reducing the need for manual data entry.  \\nAdvanced OCR Technology: Utilizes Optical Character Recognition to extract data from PDFs, \\nensuring accuracy and efficiency in data processing.\\n## Document No: 4\\n### Content: Key Features of Desaisiv \\n• Claims Experience Analytics \\no Gain deep insights into historical claims data to estimate future pricing with high \\naccuracy. \\no Utilize various factors, such as claim frequency, severity, and trends, to optimize pricing \\nstrategies. \\no Ensure competitive and data-driven pricing models that align with market conditions. \\n• Quotation Comparison \\no Easily upload multiple quotations from different insurance companies for side-by-side \\nanalysis. \\no Compare key factors such as coverage, pricing, deductibles, and policy terms. \\no Simplify decision-making by identifying the most cost-effective and comprehensive \\ninsurance option. \\n• Request New Quotation \\no Upload claims experience reports and active policies to receive tailored quotation offers \\nfrom insurers. \\no Enable insurers to revise offers, negotiate terms, and finalize agreements with clients \\nseamlessly. \\no Streamline the quotation process, reducing manual effort and improving transparency\\n## Document No: 5\\n### Content: Advanced OCR Technology: Utilizes Optical Character Recognition to extract data from PDFs, \\nensuring accuracy and efficiency in data processing.  \\n• AI-Powered Analytics: Provides comprehensive insights into health insurance consumption, \\nincluding employee utilization patterns, preferred healthcare providers, and types of medical \\nvisits.  \\n• Future Cost Predictions: Offers predictive analysis to anticipate future health insurance costs, \\naiding in effective budgeting and planning.  \\n• Customization and Optimization: Allows for tailoring of health insurance benefits to align with \\norganizational needs and budgets, either manually or through an optimization algorithm.\\n\\nQuestion: if i have 1k people ages between 22-30, how much likely would be my insurance plan?\\n## Answer:\"}]"
      ]
     },
     "execution_count": 12,
     "metadata": {},
     "output_type": "execute_result"
    }
   ],
   "source": [
    "r[2]"
   ]
  },
  {
   "cell_type": "code",
   "execution_count": null,
   "metadata": {},
   "outputs": [
    {
     "data": {
      "text/plain": [
       "<llms.providers.huggingface_provider.HuggingFaceProvider at 0x78d8bcd966f0>"
      ]
     },
     "execution_count": 6,
     "metadata": {},
     "output_type": "execute_result"
    }
   ],
   "source": [
    "generation_client.generate_text(\"Hello\")"
   ]
  },
  {
   "cell_type": "code",
   "execution_count": 8,
   "metadata": {},
   "outputs": [],
   "source": [
    "messages = [ \n",
    "    {\"role\": \"system\", \"content\": \"You are a helpful AI assistant.\"},\n",
    "    {\"role\": \"user\", \"content\": \"Hello my name is Ahmad Hammad, how is your day\"},\n",
    "    # {\"role\": \"user\", \"content\": \"What was my name?\"},\n",
    "]"
   ]
  },
  {
   "cell_type": "code",
   "execution_count": null,
   "metadata": {},
   "outputs": [
    {
     "name": "stderr",
     "output_type": "stream",
     "text": [
      "Setting `pad_token_id` to `eos_token_id`:2 for open-end generation.\n"
     ]
    }
   ],
   "source": [
    "result = generation_client.generate_response(messages=messages)"
   ]
  },
  {
   "cell_type": "code",
   "execution_count": 13,
   "metadata": {},
   "outputs": [
    {
     "name": "stdout",
     "output_type": "stream",
     "text": [
      "[INST] <<SYS>>\n",
      "You are a helpful AI assistant.\n",
      "<</SYS>>\n",
      "\n",
      "Hello my name is Ahmad Hammad, how is your day [/INST] Hello Ahmad Hammad! As an AI, I don't have feelings, but I'm here to help you. How can I assist you today? \n"
     ]
    }
   ],
   "source": [
    "print(result)"
   ]
  },
  {
   "cell_type": "code",
   "execution_count": 7,
   "metadata": {},
   "outputs": [
    {
     "name": "stderr",
     "output_type": "stream",
     "text": [
      "`embedding_function` is expected to be an Embeddings object, support for passing in a function will soon be removed.\n"
     ]
    }
   ],
   "source": []
  },
  {
   "cell_type": "code",
   "execution_count": null,
   "metadata": {},
   "outputs": [],
   "source": []
  },
  {
   "cell_type": "code",
   "execution_count": 13,
   "metadata": {},
   "outputs": [
    {
     "data": {
      "text/plain": [
       "<langchain_community.vectorstores.faiss.FAISS at 0x78466b061010>"
      ]
     },
     "execution_count": 13,
     "metadata": {},
     "output_type": "execute_result"
    }
   ],
   "source": [
    "vector_store.vector_db"
   ]
  },
  {
   "cell_type": "code",
   "execution_count": 10,
   "metadata": {},
   "outputs": [
    {
     "ename": "TypeError",
     "evalue": "'list' object is not callable",
     "output_type": "error",
     "traceback": [
      "\u001b[31m---------------------------------------------------------------------------\u001b[39m",
      "\u001b[31mTypeError\u001b[39m                                 Traceback (most recent call last)",
      "\u001b[36mCell\u001b[39m\u001b[36m \u001b[39m\u001b[32mIn[10]\u001b[39m\u001b[32m, line 1\u001b[39m\n\u001b[32m----> \u001b[39m\u001b[32m1\u001b[39m \u001b[43mvector_store\u001b[49m\u001b[43m.\u001b[49m\u001b[43mvector_db\u001b[49m\u001b[43m.\u001b[49m\u001b[43msimilarity_search_with_score\u001b[49m\u001b[43m(\u001b[49m\u001b[43mquery\u001b[49m\u001b[43m=\u001b[49m\u001b[43mq\u001b[49m\u001b[43m)\u001b[49m\n",
      "\u001b[36mFile \u001b[39m\u001b[32m~/Desaisiv-AI-Agent/venv/lib/python3.12/site-packages/langchain_community/vectorstores/faiss.py:515\u001b[39m, in \u001b[36mFAISS.similarity_search_with_score\u001b[39m\u001b[34m(self, query, k, filter, fetch_k, **kwargs)\u001b[39m\n\u001b[32m    491\u001b[39m \u001b[38;5;28;01mdef\u001b[39;00m\u001b[38;5;250m \u001b[39m\u001b[34msimilarity_search_with_score\u001b[39m(\n\u001b[32m    492\u001b[39m     \u001b[38;5;28mself\u001b[39m,\n\u001b[32m    493\u001b[39m     query: \u001b[38;5;28mstr\u001b[39m,\n\u001b[32m   (...)\u001b[39m\u001b[32m    497\u001b[39m     **kwargs: Any,\n\u001b[32m    498\u001b[39m ) -> List[Tuple[Document, \u001b[38;5;28mfloat\u001b[39m]]:\n\u001b[32m    499\u001b[39m \u001b[38;5;250m    \u001b[39m\u001b[33;03m\"\"\"Return docs most similar to query.\u001b[39;00m\n\u001b[32m    500\u001b[39m \n\u001b[32m    501\u001b[39m \u001b[33;03m    Args:\u001b[39;00m\n\u001b[32m   (...)\u001b[39m\u001b[32m    513\u001b[39m \u001b[33;03m        L2 distance in float. Lower score represents more similarity.\u001b[39;00m\n\u001b[32m    514\u001b[39m \u001b[33;03m    \"\"\"\u001b[39;00m\n\u001b[32m--> \u001b[39m\u001b[32m515\u001b[39m     embedding = \u001b[38;5;28;43mself\u001b[39;49m\u001b[43m.\u001b[49m\u001b[43m_embed_query\u001b[49m\u001b[43m(\u001b[49m\u001b[43mquery\u001b[49m\u001b[43m)\u001b[49m\n\u001b[32m    516\u001b[39m     docs = \u001b[38;5;28mself\u001b[39m.similarity_search_with_score_by_vector(\n\u001b[32m    517\u001b[39m         embedding,\n\u001b[32m    518\u001b[39m         k,\n\u001b[32m   (...)\u001b[39m\u001b[32m    521\u001b[39m         **kwargs,\n\u001b[32m    522\u001b[39m     )\n\u001b[32m    523\u001b[39m     \u001b[38;5;28;01mreturn\u001b[39;00m docs\n",
      "\u001b[36mFile \u001b[39m\u001b[32m~/Desaisiv-AI-Agent/venv/lib/python3.12/site-packages/langchain_community/vectorstores/faiss.py:268\u001b[39m, in \u001b[36mFAISS._embed_query\u001b[39m\u001b[34m(self, text)\u001b[39m\n\u001b[32m    266\u001b[39m     \u001b[38;5;28;01mreturn\u001b[39;00m \u001b[38;5;28mself\u001b[39m.embedding_function.embed_query(text)\n\u001b[32m    267\u001b[39m \u001b[38;5;28;01melse\u001b[39;00m:\n\u001b[32m--> \u001b[39m\u001b[32m268\u001b[39m     \u001b[38;5;28;01mreturn\u001b[39;00m \u001b[38;5;28;43mself\u001b[39;49m\u001b[43m.\u001b[49m\u001b[43membedding_function\u001b[49m\u001b[43m(\u001b[49m\u001b[43mtext\u001b[49m\u001b[43m)\u001b[49m\n",
      "\u001b[31mTypeError\u001b[39m: 'list' object is not callable"
     ]
    }
   ],
   "source": [
    "vector_store.vector_db.similarity_search_with_score(query=q)"
   ]
  },
  {
   "cell_type": "code",
   "execution_count": null,
   "metadata": {},
   "outputs": [
    {
     "data": {
      "text/plain": [
       "[(Document(id='7586c809-c8ed-4e41-a91b-f5e5242df885', metadata={}, page_content='o Enable insurers to revise offers, negotiate terms, and finalize agreements with clients \\nseamlessly. \\no Streamline the quotation process, reducing manual effort and improving transparency \\nbetween all parties. \\n• Provider Comparison \\no Compare provider networks across different insurance classes and tiers to assess \\ncoverage quality. \\no Upload network lists and evaluate them against competitors to identify the best options. \\no Ensure policyholders receive access to top-tier healthcare providers while optimizing \\ncosts. \\n• Underwriter Tool \\no Automate the conversion of PDF documents into structured Excel files for underwriting \\npurposes.'),\n",
       "  np.float32(6.3113356)),\n",
       " (Document(id='60030367-f8b3-401e-9d69-c9aff4f08a53', metadata={}, page_content='o Reduce manual data entry and errors, allowing underwriters to focus on risk assessment. \\no Improve efficiency in policy pricing, claim evaluation, and overall decision-making for \\ninsurers. \\n \\nRequired Files for Feature Usage \\nTo utilize the platform’s features effectively, the following files may be required: \\n• Claims Experience (CE)– Essential for historical claims analysis and pricing estimation. \\n• Active List – Contains details of active policies necessary for generating quotations. \\n• Raw Data (Optional) – Additional data that can enhance analysis and accuracy. \\n• Providers List – Used for comparing provider networks across different insurance plans. \\n• National address – Used for requesting new quotation. \\n• Commercial License - Used for requesting new quotation. \\nFor specific file requirements per feature, please contact the Product Manager, Mohammad Rababah. \\n \\nDesaisiv Partnership \\nHealth insurance companies that Desaisiv has partnership with \\n- Al Rajhi Takaful'),\n",
       "  np.float32(6.567764))]"
      ]
     },
     "execution_count": 25,
     "metadata": {},
     "output_type": "execute_result"
    }
   ],
   "source": [
    "result"
   ]
  },
  {
   "cell_type": "code",
   "execution_count": 14,
   "metadata": {},
   "outputs": [
    {
     "data": {
      "text/plain": [
       "'o Enable insurers to revise offers, negotiate terms, and finalize agreements with clients \\nseamlessly. \\no Streamline the quotation process, reducing manual effort and improving transparency \\nbetween all parties. \\n• Provider Comparison \\no Compare provider networks across different insurance classes and tiers to assess \\ncoverage quality. \\no Upload network lists and evaluate them against competitors to identify the best options. \\no Ensure policyholders receive access to top-tier healthcare providers while optimizing \\ncosts. \\n• Underwriter Tool \\no Automate the conversion of PDF documents into structured Excel files for underwriting \\npurposes.'"
      ]
     },
     "execution_count": 14,
     "metadata": {},
     "output_type": "execute_result"
    }
   ],
   "source": [
    "result[0][0].page_content"
   ]
  },
  {
   "cell_type": "code",
   "execution_count": 15,
   "metadata": {},
   "outputs": [
    {
     "data": {
      "text/plain": [
       "[(Document(id='7586c809-c8ed-4e41-a91b-f5e5242df885', metadata={}, page_content='o Enable insurers to revise offers, negotiate terms, and finalize agreements with clients \\nseamlessly. \\no Streamline the quotation process, reducing manual effort and improving transparency \\nbetween all parties. \\n• Provider Comparison \\no Compare provider networks across different insurance classes and tiers to assess \\ncoverage quality. \\no Upload network lists and evaluate them against competitors to identify the best options. \\no Ensure policyholders receive access to top-tier healthcare providers while optimizing \\ncosts. \\n• Underwriter Tool \\no Automate the conversion of PDF documents into structured Excel files for underwriting \\npurposes.'),\n",
       "  np.float32(5.7243996)),\n",
       " (Document(id='60030367-f8b3-401e-9d69-c9aff4f08a53', metadata={}, page_content='o Reduce manual data entry and errors, allowing underwriters to focus on risk assessment. \\no Improve efficiency in policy pricing, claim evaluation, and overall decision-making for \\ninsurers. \\n \\nRequired Files for Feature Usage \\nTo utilize the platform’s features effectively, the following files may be required: \\n• Claims Experience (CE)– Essential for historical claims analysis and pricing estimation. \\n• Active List – Contains details of active policies necessary for generating quotations. \\n• Raw Data (Optional) – Additional data that can enhance analysis and accuracy. \\n• Providers List – Used for comparing provider networks across different insurance plans. \\n• National address – Used for requesting new quotation. \\n• Commercial License - Used for requesting new quotation. \\nFor specific file requirements per feature, please contact the Product Manager, Mohammad Rababah. \\n \\nDesaisiv Partnership \\nHealth insurance companies that Desaisiv has partnership with \\n- Al Rajhi Takaful'),\n",
       "  np.float32(6.68577))]"
      ]
     },
     "execution_count": 15,
     "metadata": {},
     "output_type": "execute_result"
    }
   ],
   "source": [
    "result"
   ]
  },
  {
   "cell_type": "code",
   "execution_count": 19,
   "metadata": {},
   "outputs": [
    {
     "data": {
      "text/plain": [
       "[Document(id='8e557090-ebb2-4dbc-bc2c-ad1e2774a623', metadata={}, page_content=\"smarter, more efficient, and customer-centric insurance solutions. By collaborating with top machine \\nlearning scientists from the University of Oxford and accessing an extensive database of patient records, \\nDesaisiv has achieved an impressive average prediction accuracy of over 95%.  \\n  \\nDesaisiv Ledger (bucket) \\nDesaisiv has 1 ledge total of insurance claims of over 1 billion SAR. \\nمحفظة تأمينية تتجاوز المليار ريال سعودي لشركة تكنولوجيا التأمين ديسايسف \\n \\n \\nGeneral Features \\nDesaisiv's platform offers a range of features designed to streamline health insurance processes for \\ninsurers and third-party administrators (TPAs): \\n• Effortless Data Management: Simplifies the input and maintenance of employee lists, claim \\nexperiences (CE), and interaction data, reducing the need for manual data entry.  \\nAdvanced OCR Technology: Utilizes Optical Character Recognition to extract data from PDFs, \\nensuring accuracy and efficiency in data processing.\"),\n",
       " Document(id='7586c809-c8ed-4e41-a91b-f5e5242df885', metadata={}, page_content='o Enable insurers to revise offers, negotiate terms, and finalize agreements with clients \\nseamlessly. \\no Streamline the quotation process, reducing manual effort and improving transparency \\nbetween all parties. \\n• Provider Comparison \\no Compare provider networks across different insurance classes and tiers to assess \\ncoverage quality. \\no Upload network lists and evaluate them against competitors to identify the best options. \\no Ensure policyholders receive access to top-tier healthcare providers while optimizing \\ncosts. \\n• Underwriter Tool \\no Automate the conversion of PDF documents into structured Excel files for underwriting \\npurposes.')]"
      ]
     },
     "execution_count": 19,
     "metadata": {},
     "output_type": "execute_result"
    }
   ],
   "source": [
    "result.page"
   ]
  },
  {
   "cell_type": "code",
   "execution_count": 18,
   "metadata": {},
   "outputs": [
    {
     "name": "stdout",
     "output_type": "stream",
     "text": [
      "smarter, more efficient, and customer-centric insurance solutions. By collaborating with top machine \n",
      "learning scientists from the University of Oxford and accessing an extensive database of patient records, \n",
      "Desaisiv has achieved an impressive average prediction accuracy of over 95%.  \n",
      "  \n",
      "Desaisiv Ledger (bucket) \n",
      "Desaisiv has 1 ledge total of insurance claims of over 1 billion SAR. \n",
      "محفظة تأمينية تتجاوز المليار ريال سعودي لشركة تكنولوجيا التأمين ديسايسف \n",
      " \n",
      " \n",
      "General Features \n",
      "Desaisiv's platform offers a range of features designed to streamline health insurance processes for \n",
      "insurers and third-party administrators (TPAs): \n",
      "• Effortless Data Management: Simplifies the input and maintenance of employee lists, claim \n",
      "experiences (CE), and interaction data, reducing the need for manual data entry.  \n",
      "Advanced OCR Technology: Utilizes Optical Character Recognition to extract data from PDFs, \n",
      "ensuring accuracy and efficiency in data processing.\n"
     ]
    }
   ],
   "source": [
    "print(result[0].page_content)"
   ]
  },
  {
   "cell_type": "code",
   "execution_count": null,
   "metadata": {},
   "outputs": [
    {
     "data": {
      "text/plain": [
       "2"
      ]
     },
     "execution_count": 27,
     "metadata": {},
     "output_type": "execute_result"
    }
   ],
   "source": [
    "vector_store.load_vector_store(settings.VECTOR_STORE_PATH)"
   ]
  },
  {
   "cell_type": "code",
   "execution_count": 28,
   "metadata": {},
   "outputs": [
    {
     "data": {
      "text/plain": [
       "(2, 384)"
      ]
     },
     "execution_count": 28,
     "metadata": {},
     "output_type": "execute_result"
    }
   ],
   "source": [
    "r.shape"
   ]
  },
  {
   "cell_type": "code",
   "execution_count": 5,
   "metadata": {},
   "outputs": [
    {
     "name": "stdout",
     "output_type": "stream",
     "text": [
      "hi\n"
     ]
    }
   ],
   "source": [
    "if x:\n",
    "    print(\"hi\")"
   ]
  },
  {
   "cell_type": "code",
   "execution_count": null,
   "metadata": {},
   "outputs": [],
   "source": [
    "from transformers import AutoModelForCausalLM, AutoTokenizer,pipeline\n",
    "from langchain_huggingface import HuggingFacePipeline"
   ]
  },
  {
   "cell_type": "code",
   "execution_count": 4,
   "metadata": {},
   "outputs": [],
   "source": [
    "model_id = \"ALLaM-AI/ALLaM-7B-Instruct-preview\"\n",
    "tokenizer = AutoTokenizer.from_pretrained(model_id)"
   ]
  },
  {
   "cell_type": "code",
   "execution_count": 5,
   "metadata": {},
   "outputs": [
    {
     "ename": "PackageNotFoundError",
     "evalue": "No package metadata was found for bitsandbytes",
     "output_type": "error",
     "traceback": [
      "\u001b[31m---------------------------------------------------------------------------\u001b[39m",
      "\u001b[31mStopIteration\u001b[39m                             Traceback (most recent call last)",
      "\u001b[36mFile \u001b[39m\u001b[32m/usr/lib/python3.12/importlib/metadata/__init__.py:397\u001b[39m, in \u001b[36mDistribution.from_name\u001b[39m\u001b[34m(cls, name)\u001b[39m\n\u001b[32m    396\u001b[39m \u001b[38;5;28;01mtry\u001b[39;00m:\n\u001b[32m--> \u001b[39m\u001b[32m397\u001b[39m     \u001b[38;5;28;01mreturn\u001b[39;00m \u001b[38;5;28;43mnext\u001b[39;49m\u001b[43m(\u001b[49m\u001b[38;5;28;43mcls\u001b[39;49m\u001b[43m.\u001b[49m\u001b[43mdiscover\u001b[49m\u001b[43m(\u001b[49m\u001b[43mname\u001b[49m\u001b[43m=\u001b[49m\u001b[43mname\u001b[49m\u001b[43m)\u001b[49m\u001b[43m)\u001b[49m\n\u001b[32m    398\u001b[39m \u001b[38;5;28;01mexcept\u001b[39;00m \u001b[38;5;167;01mStopIteration\u001b[39;00m:\n",
      "\u001b[31mStopIteration\u001b[39m: ",
      "\nDuring handling of the above exception, another exception occurred:\n",
      "\u001b[31mPackageNotFoundError\u001b[39m                      Traceback (most recent call last)",
      "\u001b[36mCell\u001b[39m\u001b[36m \u001b[39m\u001b[32mIn[5]\u001b[39m\u001b[32m, line 1\u001b[39m\n\u001b[32m----> \u001b[39m\u001b[32m1\u001b[39m model = \u001b[43mAutoModelForCausalLM\u001b[49m\u001b[43m.\u001b[49m\u001b[43mfrom_pretrained\u001b[49m\u001b[43m(\u001b[49m\n\u001b[32m      2\u001b[39m \u001b[43m    \u001b[49m\u001b[43mmodel_id\u001b[49m\u001b[43m,\u001b[49m\n\u001b[32m      3\u001b[39m \u001b[43m    \u001b[49m\u001b[43mload_in_4bit\u001b[49m\u001b[43m=\u001b[49m\u001b[38;5;28;43;01mTrue\u001b[39;49;00m\u001b[43m,\u001b[49m\n\u001b[32m      4\u001b[39m \u001b[43m    \u001b[49m\u001b[38;5;66;43;03m#attn_implementation=\"flash_attention_2\", # if you have an ampere GPU\u001b[39;49;00m\n\u001b[32m      5\u001b[39m \u001b[43m)\u001b[49m\n\u001b[32m      6\u001b[39m pipe = pipeline(\u001b[33m\"\u001b[39m\u001b[33mtext-generation\u001b[39m\u001b[33m\"\u001b[39m, model=model, tokenizer=tokenizer, max_new_tokens=\u001b[32m100\u001b[39m, top_k=\u001b[32m50\u001b[39m, temperature=\u001b[32m0.1\u001b[39m)\n\u001b[32m      7\u001b[39m llm = HuggingFacePipeline(pipeline=pipe)\n",
      "\u001b[36mFile \u001b[39m\u001b[32m~/Desaisiv-AI-Agent/chatbot/venv/lib/python3.12/site-packages/transformers/models/auto/auto_factory.py:573\u001b[39m, in \u001b[36m_BaseAutoModelClass.from_pretrained\u001b[39m\u001b[34m(cls, pretrained_model_name_or_path, *model_args, **kwargs)\u001b[39m\n\u001b[32m    571\u001b[39m \u001b[38;5;28;01melif\u001b[39;00m \u001b[38;5;28mtype\u001b[39m(config) \u001b[38;5;129;01min\u001b[39;00m \u001b[38;5;28mcls\u001b[39m._model_mapping.keys():\n\u001b[32m    572\u001b[39m     model_class = _get_model_class(config, \u001b[38;5;28mcls\u001b[39m._model_mapping)\n\u001b[32m--> \u001b[39m\u001b[32m573\u001b[39m     \u001b[38;5;28;01mreturn\u001b[39;00m \u001b[43mmodel_class\u001b[49m\u001b[43m.\u001b[49m\u001b[43mfrom_pretrained\u001b[49m\u001b[43m(\u001b[49m\n\u001b[32m    574\u001b[39m \u001b[43m        \u001b[49m\u001b[43mpretrained_model_name_or_path\u001b[49m\u001b[43m,\u001b[49m\u001b[43m \u001b[49m\u001b[43m*\u001b[49m\u001b[43mmodel_args\u001b[49m\u001b[43m,\u001b[49m\u001b[43m \u001b[49m\u001b[43mconfig\u001b[49m\u001b[43m=\u001b[49m\u001b[43mconfig\u001b[49m\u001b[43m,\u001b[49m\u001b[43m \u001b[49m\u001b[43m*\u001b[49m\u001b[43m*\u001b[49m\u001b[43mhub_kwargs\u001b[49m\u001b[43m,\u001b[49m\u001b[43m \u001b[49m\u001b[43m*\u001b[49m\u001b[43m*\u001b[49m\u001b[43mkwargs\u001b[49m\n\u001b[32m    575\u001b[39m \u001b[43m    \u001b[49m\u001b[43m)\u001b[49m\n\u001b[32m    576\u001b[39m \u001b[38;5;28;01mraise\u001b[39;00m \u001b[38;5;167;01mValueError\u001b[39;00m(\n\u001b[32m    577\u001b[39m     \u001b[33mf\u001b[39m\u001b[33m\"\u001b[39m\u001b[33mUnrecognized configuration class \u001b[39m\u001b[38;5;132;01m{\u001b[39;00mconfig.\u001b[34m__class__\u001b[39m\u001b[38;5;132;01m}\u001b[39;00m\u001b[33m for this kind of AutoModel: \u001b[39m\u001b[38;5;132;01m{\u001b[39;00m\u001b[38;5;28mcls\u001b[39m.\u001b[34m__name__\u001b[39m\u001b[38;5;132;01m}\u001b[39;00m\u001b[33m.\u001b[39m\u001b[38;5;130;01m\\n\u001b[39;00m\u001b[33m\"\u001b[39m\n\u001b[32m    578\u001b[39m     \u001b[33mf\u001b[39m\u001b[33m\"\u001b[39m\u001b[33mModel type should be one of \u001b[39m\u001b[38;5;132;01m{\u001b[39;00m\u001b[33m'\u001b[39m\u001b[33m, \u001b[39m\u001b[33m'\u001b[39m.join(c.\u001b[34m__name__\u001b[39m\u001b[38;5;250m \u001b[39m\u001b[38;5;28;01mfor\u001b[39;00m\u001b[38;5;250m \u001b[39mc\u001b[38;5;250m \u001b[39m\u001b[38;5;129;01min\u001b[39;00m\u001b[38;5;250m \u001b[39m\u001b[38;5;28mcls\u001b[39m._model_mapping.keys())\u001b[38;5;132;01m}\u001b[39;00m\u001b[33m.\u001b[39m\u001b[33m\"\u001b[39m\n\u001b[32m    579\u001b[39m )\n",
      "\u001b[36mFile \u001b[39m\u001b[32m~/Desaisiv-AI-Agent/chatbot/venv/lib/python3.12/site-packages/transformers/modeling_utils.py:272\u001b[39m, in \u001b[36mrestore_default_torch_dtype.<locals>._wrapper\u001b[39m\u001b[34m(*args, **kwargs)\u001b[39m\n\u001b[32m    270\u001b[39m old_dtype = torch.get_default_dtype()\n\u001b[32m    271\u001b[39m \u001b[38;5;28;01mtry\u001b[39;00m:\n\u001b[32m--> \u001b[39m\u001b[32m272\u001b[39m     \u001b[38;5;28;01mreturn\u001b[39;00m \u001b[43mfunc\u001b[49m\u001b[43m(\u001b[49m\u001b[43m*\u001b[49m\u001b[43margs\u001b[49m\u001b[43m,\u001b[49m\u001b[43m \u001b[49m\u001b[43m*\u001b[49m\u001b[43m*\u001b[49m\u001b[43mkwargs\u001b[49m\u001b[43m)\u001b[49m\n\u001b[32m    273\u001b[39m \u001b[38;5;28;01mfinally\u001b[39;00m:\n\u001b[32m    274\u001b[39m     torch.set_default_dtype(old_dtype)\n",
      "\u001b[36mFile \u001b[39m\u001b[32m~/Desaisiv-AI-Agent/chatbot/venv/lib/python3.12/site-packages/transformers/modeling_utils.py:4218\u001b[39m, in \u001b[36mPreTrainedModel.from_pretrained\u001b[39m\u001b[34m(cls, pretrained_model_name_or_path, config, cache_dir, ignore_mismatched_sizes, force_download, local_files_only, token, revision, use_safetensors, weights_only, *model_args, **kwargs)\u001b[39m\n\u001b[32m   4216\u001b[39m     config_dict = {k: v \u001b[38;5;28;01mfor\u001b[39;00m k, v \u001b[38;5;129;01min\u001b[39;00m kwargs.items() \u001b[38;5;28;01mif\u001b[39;00m k \u001b[38;5;129;01min\u001b[39;00m inspect.signature(BitsAndBytesConfig).parameters}\n\u001b[32m   4217\u001b[39m     config_dict = {**config_dict, \u001b[33m\"\u001b[39m\u001b[33mload_in_4bit\u001b[39m\u001b[33m\"\u001b[39m: load_in_4bit, \u001b[33m\"\u001b[39m\u001b[33mload_in_8bit\u001b[39m\u001b[33m\"\u001b[39m: load_in_8bit}\n\u001b[32m-> \u001b[39m\u001b[32m4218\u001b[39m     quantization_config, kwargs = \u001b[43mBitsAndBytesConfig\u001b[49m\u001b[43m.\u001b[49m\u001b[43mfrom_dict\u001b[49m\u001b[43m(\u001b[49m\n\u001b[32m   4219\u001b[39m \u001b[43m        \u001b[49m\u001b[43mconfig_dict\u001b[49m\u001b[43m=\u001b[49m\u001b[43mconfig_dict\u001b[49m\u001b[43m,\u001b[49m\u001b[43m \u001b[49m\u001b[43mreturn_unused_kwargs\u001b[49m\u001b[43m=\u001b[49m\u001b[38;5;28;43;01mTrue\u001b[39;49;00m\u001b[43m,\u001b[49m\u001b[43m \u001b[49m\u001b[43m*\u001b[49m\u001b[43m*\u001b[49m\u001b[43mkwargs\u001b[49m\n\u001b[32m   4220\u001b[39m \u001b[43m    \u001b[49m\u001b[43m)\u001b[49m\n\u001b[32m   4221\u001b[39m     logger.warning(\n\u001b[32m   4222\u001b[39m         \u001b[33m\"\u001b[39m\u001b[33mThe `load_in_4bit` and `load_in_8bit` arguments are deprecated and will be removed in the future versions. \u001b[39m\u001b[33m\"\u001b[39m\n\u001b[32m   4223\u001b[39m         \u001b[33m\"\u001b[39m\u001b[33mPlease, pass a `BitsAndBytesConfig` object in `quantization_config` argument instead.\u001b[39m\u001b[33m\"\u001b[39m\n\u001b[32m   4224\u001b[39m     )\n\u001b[32m   4226\u001b[39m from_pt = \u001b[38;5;129;01mnot\u001b[39;00m (from_tf | from_flax)\n",
      "\u001b[36mFile \u001b[39m\u001b[32m~/Desaisiv-AI-Agent/chatbot/venv/lib/python3.12/site-packages/transformers/utils/quantization_config.py:119\u001b[39m, in \u001b[36mQuantizationConfigMixin.from_dict\u001b[39m\u001b[34m(cls, config_dict, return_unused_kwargs, **kwargs)\u001b[39m\n\u001b[32m    102\u001b[39m \u001b[38;5;129m@classmethod\u001b[39m\n\u001b[32m    103\u001b[39m \u001b[38;5;28;01mdef\u001b[39;00m\u001b[38;5;250m \u001b[39m\u001b[34mfrom_dict\u001b[39m(\u001b[38;5;28mcls\u001b[39m, config_dict, return_unused_kwargs=\u001b[38;5;28;01mFalse\u001b[39;00m, **kwargs):\n\u001b[32m    104\u001b[39m \u001b[38;5;250m    \u001b[39m\u001b[33;03m\"\"\"\u001b[39;00m\n\u001b[32m    105\u001b[39m \u001b[33;03m    Instantiates a [`QuantizationConfigMixin`] from a Python dictionary of parameters.\u001b[39;00m\n\u001b[32m    106\u001b[39m \n\u001b[32m   (...)\u001b[39m\u001b[32m    117\u001b[39m \u001b[33;03m        [`QuantizationConfigMixin`]: The configuration object instantiated from those parameters.\u001b[39;00m\n\u001b[32m    118\u001b[39m \u001b[33;03m    \"\"\"\u001b[39;00m\n\u001b[32m--> \u001b[39m\u001b[32m119\u001b[39m     config = \u001b[38;5;28;43mcls\u001b[39;49m\u001b[43m(\u001b[49m\u001b[43m*\u001b[49m\u001b[43m*\u001b[49m\u001b[43mconfig_dict\u001b[49m\u001b[43m)\u001b[49m\n\u001b[32m    121\u001b[39m     to_remove = []\n\u001b[32m    122\u001b[39m     \u001b[38;5;28;01mfor\u001b[39;00m key, value \u001b[38;5;129;01min\u001b[39;00m kwargs.items():\n",
      "\u001b[36mFile \u001b[39m\u001b[32m~/Desaisiv-AI-Agent/chatbot/venv/lib/python3.12/site-packages/transformers/utils/quantization_config.py:438\u001b[39m, in \u001b[36mBitsAndBytesConfig.__init__\u001b[39m\u001b[34m(self, load_in_8bit, load_in_4bit, llm_int8_threshold, llm_int8_skip_modules, llm_int8_enable_fp32_cpu_offload, llm_int8_has_fp16_weight, bnb_4bit_compute_dtype, bnb_4bit_quant_type, bnb_4bit_use_double_quant, bnb_4bit_quant_storage, **kwargs)\u001b[39m\n\u001b[32m    435\u001b[39m \u001b[38;5;28;01mif\u001b[39;00m kwargs:\n\u001b[32m    436\u001b[39m     logger.info(\u001b[33mf\u001b[39m\u001b[33m\"\u001b[39m\u001b[33mUnused kwargs: \u001b[39m\u001b[38;5;132;01m{\u001b[39;00m\u001b[38;5;28mlist\u001b[39m(kwargs.keys())\u001b[38;5;132;01m}\u001b[39;00m\u001b[33m. These kwargs are not used in \u001b[39m\u001b[38;5;132;01m{\u001b[39;00m\u001b[38;5;28mself\u001b[39m.\u001b[34m__class__\u001b[39m\u001b[38;5;132;01m}\u001b[39;00m\u001b[33m.\u001b[39m\u001b[33m\"\u001b[39m)\n\u001b[32m--> \u001b[39m\u001b[32m438\u001b[39m \u001b[38;5;28;43mself\u001b[39;49m\u001b[43m.\u001b[49m\u001b[43mpost_init\u001b[49m\u001b[43m(\u001b[49m\u001b[43m)\u001b[49m\n",
      "\u001b[36mFile \u001b[39m\u001b[32m~/Desaisiv-AI-Agent/chatbot/venv/lib/python3.12/site-packages/transformers/utils/quantization_config.py:496\u001b[39m, in \u001b[36mBitsAndBytesConfig.post_init\u001b[39m\u001b[34m(self)\u001b[39m\n\u001b[32m    493\u001b[39m \u001b[38;5;28;01mif\u001b[39;00m \u001b[38;5;129;01mnot\u001b[39;00m \u001b[38;5;28misinstance\u001b[39m(\u001b[38;5;28mself\u001b[39m.bnb_4bit_use_double_quant, \u001b[38;5;28mbool\u001b[39m):\n\u001b[32m    494\u001b[39m     \u001b[38;5;28;01mraise\u001b[39;00m \u001b[38;5;167;01mTypeError\u001b[39;00m(\u001b[33m\"\u001b[39m\u001b[33mbnb_4bit_use_double_quant must be a boolean\u001b[39m\u001b[33m\"\u001b[39m)\n\u001b[32m--> \u001b[39m\u001b[32m496\u001b[39m \u001b[38;5;28;01mif\u001b[39;00m \u001b[38;5;28mself\u001b[39m.load_in_4bit \u001b[38;5;129;01mand\u001b[39;00m \u001b[38;5;129;01mnot\u001b[39;00m version.parse(\u001b[43mimportlib\u001b[49m\u001b[43m.\u001b[49m\u001b[43mmetadata\u001b[49m\u001b[43m.\u001b[49m\u001b[43mversion\u001b[49m\u001b[43m(\u001b[49m\u001b[33;43m\"\u001b[39;49m\u001b[33;43mbitsandbytes\u001b[39;49m\u001b[33;43m\"\u001b[39;49m\u001b[43m)\u001b[49m) >= version.parse(\n\u001b[32m    497\u001b[39m     \u001b[33m\"\u001b[39m\u001b[33m0.39.0\u001b[39m\u001b[33m\"\u001b[39m\n\u001b[32m    498\u001b[39m ):\n\u001b[32m    499\u001b[39m     \u001b[38;5;28;01mraise\u001b[39;00m \u001b[38;5;167;01mValueError\u001b[39;00m(\n\u001b[32m    500\u001b[39m         \u001b[33m\"\u001b[39m\u001b[33m4 bit quantization requires bitsandbytes>=0.39.0 - please upgrade your bitsandbytes version\u001b[39m\u001b[33m\"\u001b[39m\n\u001b[32m    501\u001b[39m     )\n",
      "\u001b[36mFile \u001b[39m\u001b[32m/usr/lib/python3.12/importlib/metadata/__init__.py:889\u001b[39m, in \u001b[36mversion\u001b[39m\u001b[34m(distribution_name)\u001b[39m\n\u001b[32m    882\u001b[39m \u001b[38;5;28;01mdef\u001b[39;00m\u001b[38;5;250m \u001b[39m\u001b[34mversion\u001b[39m(distribution_name):\n\u001b[32m    883\u001b[39m \u001b[38;5;250m    \u001b[39m\u001b[33;03m\"\"\"Get the version string for the named package.\u001b[39;00m\n\u001b[32m    884\u001b[39m \n\u001b[32m    885\u001b[39m \u001b[33;03m    :param distribution_name: The name of the distribution package to query.\u001b[39;00m\n\u001b[32m    886\u001b[39m \u001b[33;03m    :return: The version string for the package as defined in the package's\u001b[39;00m\n\u001b[32m    887\u001b[39m \u001b[33;03m        \"Version\" metadata key.\u001b[39;00m\n\u001b[32m    888\u001b[39m \u001b[33;03m    \"\"\"\u001b[39;00m\n\u001b[32m--> \u001b[39m\u001b[32m889\u001b[39m     \u001b[38;5;28;01mreturn\u001b[39;00m \u001b[43mdistribution\u001b[49m\u001b[43m(\u001b[49m\u001b[43mdistribution_name\u001b[49m\u001b[43m)\u001b[49m.version\n",
      "\u001b[36mFile \u001b[39m\u001b[32m/usr/lib/python3.12/importlib/metadata/__init__.py:862\u001b[39m, in \u001b[36mdistribution\u001b[39m\u001b[34m(distribution_name)\u001b[39m\n\u001b[32m    856\u001b[39m \u001b[38;5;28;01mdef\u001b[39;00m\u001b[38;5;250m \u001b[39m\u001b[34mdistribution\u001b[39m(distribution_name):\n\u001b[32m    857\u001b[39m \u001b[38;5;250m    \u001b[39m\u001b[33;03m\"\"\"Get the ``Distribution`` instance for the named package.\u001b[39;00m\n\u001b[32m    858\u001b[39m \n\u001b[32m    859\u001b[39m \u001b[33;03m    :param distribution_name: The name of the distribution package as a string.\u001b[39;00m\n\u001b[32m    860\u001b[39m \u001b[33;03m    :return: A ``Distribution`` instance (or subclass thereof).\u001b[39;00m\n\u001b[32m    861\u001b[39m \u001b[33;03m    \"\"\"\u001b[39;00m\n\u001b[32m--> \u001b[39m\u001b[32m862\u001b[39m     \u001b[38;5;28;01mreturn\u001b[39;00m \u001b[43mDistribution\u001b[49m\u001b[43m.\u001b[49m\u001b[43mfrom_name\u001b[49m\u001b[43m(\u001b[49m\u001b[43mdistribution_name\u001b[49m\u001b[43m)\u001b[49m\n",
      "\u001b[36mFile \u001b[39m\u001b[32m/usr/lib/python3.12/importlib/metadata/__init__.py:399\u001b[39m, in \u001b[36mDistribution.from_name\u001b[39m\u001b[34m(cls, name)\u001b[39m\n\u001b[32m    397\u001b[39m     \u001b[38;5;28;01mreturn\u001b[39;00m \u001b[38;5;28mnext\u001b[39m(\u001b[38;5;28mcls\u001b[39m.discover(name=name))\n\u001b[32m    398\u001b[39m \u001b[38;5;28;01mexcept\u001b[39;00m \u001b[38;5;167;01mStopIteration\u001b[39;00m:\n\u001b[32m--> \u001b[39m\u001b[32m399\u001b[39m     \u001b[38;5;28;01mraise\u001b[39;00m PackageNotFoundError(name)\n",
      "\u001b[31mPackageNotFoundError\u001b[39m: No package metadata was found for bitsandbytes"
     ]
    }
   ],
   "source": [
    "model = AutoModelForCausalLM.from_pretrained(\n",
    "    model_id,\n",
    "    load_in_4bit=True,\n",
    "    #attn_implementation=\"flash_attention_2\", # if you have an ampere GPU\n",
    ")\n",
    "pipe = pipeline(\"text-generation\", model=model, tokenizer=tokenizer, max_new_tokens=100, top_k=50, temperature=0.1)\n",
    "llm = HuggingFacePipeline(pipeline=pipe)\n",
    "llm.invoke(\"Hugging Face is\")"
   ]
  },
  {
   "cell_type": "code",
   "execution_count": 7,
   "metadata": {},
   "outputs": [
    {
     "name": "stderr",
     "output_type": "stream",
     "text": [
      "Setting `pad_token_id` to `eos_token_id`:2 for open-end generation.\n"
     ]
    },
    {
     "name": "stdout",
     "output_type": "stream",
     "text": [
      "[INST] how to do coffee? [/INST] To make coffee, follow these steps:\n",
      "\n",
      "1. Gather the ingredients and materials: coffee beans (ground or whole), water, a coffee maker, a filter, and a cup or mug.\n",
      "2. Measure the coffee grounds: Depending on your preference, you can use 1 to 2 tablespoons of coffee grounds for every 6 ounces of water.\n",
      "3. Add the coffee grounds to the filter: Place the filter in the coffee maker and pour the measured coffee grounds into it.\n",
      "4. Add water: Fill the coffee maker with cold water, ensuring that it's within the water line.\n",
      "5. Turn on the coffee maker: Allow the machine to heat the water and drip through the coffee grounds.\n",
      "6. Wait for the coffee to brew: This process usually takes around 5-10 minutes, depending on the type of coffee maker.\n",
      "7. Remove the coffee maker from the heat source: Once the brewing is complete, remove the coffee maker from the heat source.\n",
      "8. Pour the coffee into a cup or mug: Carefully pour the freshly brewed coffee into your cup or mug.\n",
      "9. Serve and enjoy: You can now enjoy your freshly brewed coffee.\n",
      "\n",
      "Note: The instructions provided are general guidelines, and the actual process may vary depending on the type of coffee maker and the desired strength of the coffee.\n",
      "\n",
      "I hope this helps you make a delicious cup of coffee! \n"
     ]
    }
   ],
   "source": [
    "messages = [\n",
    "    {\"role\": \"user\", \"content\": \"how to do coffee?\"},\n",
    "]\n",
    "response = rag.generate_response(messages)\n",
    "print(response)"
   ]
  },
  {
   "cell_type": "code",
   "execution_count": 8,
   "metadata": {},
   "outputs": [
    {
     "name": "stderr",
     "output_type": "stream",
     "text": [
      "Setting `pad_token_id` to `eos_token_id`:2 for open-end generation.\n"
     ]
    },
    {
     "name": "stdout",
     "output_type": "stream",
     "text": [
      "[INST] <<SYS>>\n",
      "You are a helpful AI assistant. Use the given context to answer the question.\n",
      "<</SYS>>\n",
      "\n",
      "Context:\n",
      "Insurance Pricing Policy \n",
      "• Under 18 years old → 1,000 SR \n",
      "• Ages 19 - 30 → 1,200 SR \n",
      "• Ages 31 - 65 → 1,500 SR \n",
      "• Over 65 years old → 2,000 SR\n",
      "\n",
      "Question: How much is the insurance pricing for someone ages less than 18 years old?\n",
      "\n",
      "Answer: [/INST] The insurance pricing for someone ages less than 18 years old is 1,000 SR. \n"
     ]
    }
   ],
   "source": [
    "response = rag.retrieve_and_generate(\"How much is the insurance pricing for someone ages less than 18 years old?\")\n",
    "print(response)"
   ]
  },
  {
   "cell_type": "code",
   "execution_count": 13,
   "metadata": {},
   "outputs": [
    {
     "data": {
      "text/plain": [
       "True"
      ]
     },
     "execution_count": 13,
     "metadata": {},
     "output_type": "execute_result"
    }
   ],
   "source": [
    "from dotenv import load_dotenv\n",
    "load_dotenv()"
   ]
  },
  {
   "cell_type": "code",
   "execution_count": null,
   "metadata": {},
   "outputs": [
    {
     "name": "stderr",
     "output_type": "stream",
     "text": [
      "Setting `pad_token_id` to `eos_token_id`:2 for open-end generation.\n"
     ]
    },
    {
     "name": "stdout",
     "output_type": "stream",
     "text": [
      "[INST] <<SYS>>\n",
      "You are a helpful AI assistant. Use the given context to answer the question.\n",
      "<</SYS>>\n",
      "\n",
      "Context:\n",
      "Insurance Pricing Policy \n",
      "• Under 18 years old → 1,000 SR \n",
      "• Ages 19 - 30 → 1,200 SR \n",
      "• Ages 31 - 65 → 1,500 SR \n",
      "• Over 65 years old → 2,000 SR\n",
      "\n",
      "Question: If there is 5 children less than 18 years old, and two adults between 31-65 years old, how much would be the final premium?\n",
      "\n",
      "Answer: [/INST] Based on the provided Insurance Pricing Policy, we need to calculate the final premium for the given group of 5 children under 18 years old and 2 adults between 31-65 years old.\n",
      "\n",
      "1. Calculate the premium for the 5 children under 18 years old:\n",
      "   - Premium for one child = 1,000 SR\n",
      "   - Premium for 5 children = 1,000 SR * 5 = 5,000 SR\n",
      "\n",
      "2. Calculate the premium for the 2 adults between 31-65 years old:\n",
      "   - Premium for one adult = 1,500 SR\n",
      "   - Premium for 2 adults = 1,500 SR * 2 = 3,000 SR\n",
      "\n",
      "3. Add the premiums for children and adults to get the final premium:\n",
      "   - Total premium = 5,000 SR (children) + 3,000 SR (adults) = 8,000 SR\n",
      "\n",
      "Therefore, the final premium for 5 children under 18 years old and 2 adults between 31-65 years old would be 8,000 SR. \n"
     ]
    }
   ],
   "source": [
    "response = rag.retrieve_and_generate(\"If there is 5 children less than 18 years old, and two adults between 31-65 years old, how much would be the final premium?\")\n",
    "print(response)"
   ]
  },
  {
   "cell_type": "code",
   "execution_count": null,
   "metadata": {},
   "outputs": [],
   "source": [
    "query = \"If there is 5 children less than 18 years old, and two adults between 31-65 years old, how much would be the final premium?\"\n",
    "response = rag.retrieve_and_generate_history(query, )\n",
    "print(response)"
   ]
  }
 ],
 "metadata": {
  "kernelspec": {
   "display_name": "venv",
   "language": "python",
   "name": "python3"
  },
  "language_info": {
   "codemirror_mode": {
    "name": "ipython",
    "version": 3
   },
   "file_extension": ".py",
   "mimetype": "text/x-python",
   "name": "python",
   "nbconvert_exporter": "python",
   "pygments_lexer": "ipython3",
   "version": "3.12.3"
  }
 },
 "nbformat": 4,
 "nbformat_minor": 2
}
